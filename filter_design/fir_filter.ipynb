{
 "cells": [
  {
   "cell_type": "code",
   "execution_count": null,
   "metadata": {},
   "outputs": [],
   "source": [
    "import numpy as np\n",
    "import matplotlib.pyplot as plt\n",
    "from scipy import signal\n",
    "from matplotlib.markers import MarkerStyle\n",
    "from matplotlib.patches import Circle"
   ]
  },
  {
   "cell_type": "code",
   "execution_count": null,
   "metadata": {},
   "outputs": [],
   "source": [
    "def zplane_plot(ax, z, p):\n",
    "    \"\"\"Realize a zplane plot.\n",
    "\n",
    "    input:\n",
    "    ax...axes handle\n",
    "    z...zeros\n",
    "    p...poles\n",
    "    output:\n",
    "    zplane plot into ax\n",
    "    \"\"\"\n",
    "    if ax is None:\n",
    "        ax = plt.gca()\n",
    "\n",
    "    ax.axvline(0, color=\"0.7\")\n",
    "    ax.axhline(0, color=\"0.7\")\n",
    "    unit_circle = Circle((0, 0), radius=1, fill=False,\n",
    "                         color=\"black\", linestyle=\"-\", alpha=0.9)\n",
    "    ax.add_patch(unit_circle)\n",
    "    \n",
    "    ax.plot(np.real(z), np.imag(z),\n",
    "            \"o\", label=\"zeros\",\n",
    "            color=\"C0\", fillstyle=\"none\",\n",
    "            markersize=10, markeredgewidth=2)\n",
    "    ax.plot(np.real(p), np.imag(p),\n",
    "            \"x\", label=\"poles\",\n",
    "            color=\"C1\", fillstyle=\"none\",\n",
    "            markersize=10, markeredgewidth=2)\n",
    "    if (z[0]-z[1])==0.:\n",
    "        ax.text(np.real(z[0])+0.05, np.imag(z[0])+0.05, '2', color='C0')     \n",
    "    if (p[0]-p[1])==0.:\n",
    "        ax.text(np.real(p[0])+0.05, np.imag(p[0])+0.05, '2', color='C1')    \n",
    "    \n",
    "    ax.set_xscale(\"linear\")\n",
    "    ax.set_yscale(\"linear\")\n",
    "    ax.set_xlabel(r'Real{$z$}', color=\"k\")\n",
    "    ax.set_ylabel(r'Imag{$z$}', color=\"k\")\n",
    "    ax.set_title(\"Poles x and zeros o of discrete-time domain filter\",\n",
    "                 color=\"k\")\n",
    "    ax.axis(\"equal\")\n",
    "    ax.set_xlim(-1.25, +1.25)\n",
    "    ax.set_xticks(np.arange(-1.25, 1.25+0.25, 0.25))\n",
    "    ax.set_xticklabels([\"-1.25\", \"-1\", \"-0.75\", \"-0.5\", \"-0.25\", \"0\",\n",
    "                        \"0.25\", \"0.5\", \"0.75\", \"1\", \"1.25\"],\n",
    "                       color=\"k\")\n",
    "    ax.set_ylim(-1.25, +1.25)\n",
    "    ax.set_yticks(np.arange(-1.25, 1.25+0.25, 0.25))\n",
    "    ax.set_yticklabels([\"-1.25\", \"-1\", \"-0.75\", \"-0.5\", \"-0.25\", \"0\",\n",
    "                        \"0.25\", \"0.5\", \"0.75\", \"1\", \"1.25\"],\n",
    "                       color=\"k\")\n",
    "    ax.legend(loc=\"best\")\n",
    "    ax.grid(True, which=\"both\", axis=\"both\",\n",
    "            linestyle=\"-\", linewidth=0.5, color=(0.8, 0.8, 0.8))\n",
    "\n",
    "\n",
    "def bode_plot(b, a, N=2**10, fig=None):\n",
    "    if fig is None:\n",
    "        fig = plt.figure()\n",
    "    p = np.roots(a)\n",
    "    z = np.roots(b)\n",
    "    W, Hd = signal.freqz(b, a, N, whole=True)\n",
    "    if Hd[0] == 0:\n",
    "        Hd[0] = 1e-15  # avoid zero at DC for plotting dB\n",
    "\n",
    "    gs = fig.add_gridspec(2, 2)\n",
    "    # magnitude\n",
    "    ax1 = fig.add_subplot(gs[0, 0])\n",
    "    ax1.plot(W/np.pi, np.abs(Hd), \"C7\",\n",
    "             label=r'$|H(\\Omega)|$)',\n",
    "             linewidth=2)\n",
    "    ax1.set_xlim(0, 2)\n",
    "    ax1.set_xticks(np.arange(0, 9)/4)\n",
    "    #ax1.set_xlabel(r'$\\Omega / \\pi$', color='k')\n",
    "    ax1.set_ylabel(r'$|H|$', color='k')\n",
    "    ax1.set_title(\"Magnitude response\", color='k')\n",
    "    ax1.grid(True, which=\"both\", axis=\"both\",\n",
    "             linestyle=\"-\", linewidth=0.5, color=(0.8, 0.8, 0.8))\n",
    "\n",
    "    # phase\n",
    "    ax2 = fig.add_subplot(gs[1, 0])\n",
    "    ax2.plot(W/np.pi, (np.angle(Hd)*180/np.pi), \"C7\",\n",
    "             label=r'$\\mathrm{angle}(H('r'\\omega))$',\n",
    "             linewidth=2)\n",
    "    ax2.set_xlim(0, 2)\n",
    "    ax2.set_xticks(np.arange(0, 9)/4)\n",
    "    ax2.set_xlabel(r'$\\Omega / \\pi$', color='k')\n",
    "    ax2.set_ylabel(r'$\\angle(H)$ / deg', color='k')\n",
    "    ax2.set_title(\"Phase response\", color='k')\n",
    "    ax2.grid(True, which=\"both\", axis=\"both\",\n",
    "             linestyle=\"-\", linewidth=0.5, color=(0.8, 0.8, 0.8))\n",
    "\n",
    "    # zplane\n",
    "    ax3 = fig.add_subplot(gs[:, 1])\n",
    "    zplane_plot(ax3, z, p)\n",
    "\n",
    "    print(p, z)"
   ]
  },
  {
   "cell_type": "code",
   "execution_count": null,
   "metadata": {},
   "outputs": [],
   "source": [
    "a = [1, 0, 0]\n",
    "figsize = (12, 7)"
   ]
  },
  {
   "cell_type": "code",
   "execution_count": null,
   "metadata": {},
   "outputs": [],
   "source": [
    "b = [1, +1, 0]\n",
    "bode_plot(b, a, N=2**10, fig=plt.figure(figsize=figsize))"
   ]
  },
  {
   "cell_type": "code",
   "execution_count": null,
   "metadata": {},
   "outputs": [],
   "source": [
    "b = [1, -1, 0]\n",
    "bode_plot(b, a, N=2**10, fig=plt.figure(figsize=figsize))"
   ]
  },
  {
   "cell_type": "code",
   "execution_count": null,
   "metadata": {},
   "outputs": [],
   "source": [
    "b = [1, 0, +1]\n",
    "bode_plot(b, a, N=2**10, fig=plt.figure(figsize=figsize))"
   ]
  },
  {
   "cell_type": "code",
   "execution_count": null,
   "metadata": {},
   "outputs": [],
   "source": [
    "b = [1, 0, -1]\n",
    "bode_plot(b, a, N=2**10, fig=plt.figure(figsize=figsize))"
   ]
  },
  {
   "cell_type": "code",
   "execution_count": null,
   "metadata": {},
   "outputs": [],
   "source": [
    "b = [1, -2, 1]\n",
    "bode_plot(b, a, N=2**10, fig=plt.figure(figsize=figsize))"
   ]
  },
  {
   "cell_type": "code",
   "execution_count": null,
   "metadata": {},
   "outputs": [],
   "source": [
    "b = [1, +2, 1]\n",
    "bode_plot(b, a, N=2**10, fig=plt.figure(figsize=figsize))"
   ]
  },
  {
   "cell_type": "code",
   "execution_count": null,
   "metadata": {},
   "outputs": [],
   "source": []
  }
 ],
 "metadata": {
  "kernelspec": {
   "display_name": "Python 3",
   "language": "python",
   "name": "python3"
  },
  "language_info": {
   "codemirror_mode": {
    "name": "ipython",
    "version": 3
   },
   "file_extension": ".py",
   "mimetype": "text/x-python",
   "name": "python",
   "nbconvert_exporter": "python",
   "pygments_lexer": "ipython3",
   "version": "3.7.5"
  }
 },
 "nbformat": 4,
 "nbformat_minor": 2
}
