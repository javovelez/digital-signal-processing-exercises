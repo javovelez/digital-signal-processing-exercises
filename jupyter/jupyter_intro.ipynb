{
 "cells": [
  {
   "cell_type": "markdown",
   "metadata": {},
   "source": [
    "Sascha Spors,\n",
    "Professorship Signal Theory and Digital Signal Processing,\n",
    "Institute of Communications Engineering (INT),\n",
    "Faculty of Computer Science and Electrical Engineering (IEF),\n",
    "University of Rostock, Germany\n",
    "\n",
    "Tutorial Digital Signal Processing (Course #24505),\n",
    "**Jupyter notebook / `scipy` / `numpy` / `matplotlib` basics for DSP**,\n",
    "Winter Semester 2019/20\n",
    "\n",
    "Feel free to contact lecturer frank.schultz@uni-rostock.de\n",
    "\n",
    "- lecture: https://github.com/spatialaudio/digital-signal-processing-lecture\n",
    "- tutorial: https://github.com/spatialaudio/digital-signal-processing-exercises\n",
    "\n",
    "You might find the following ressources useful:\n",
    "\n",
    "- Python tutorial\n",
    "https://nbviewer.jupyter.org/github/mgeier/python-audio/blob/master/intro-python.ipynb\n",
    "\n",
    "- Python / Jupyter notebook tutorial\n",
    "https://nbviewer.jupyter.org/github/spatialaudio/selected-topics-in-audio-signal-processing-exercises/blob/master/intro.ipynb\n",
    "\n",
    "**Anaconda Environment**\n",
    "\n",
    "If you are using the [Anaconda distribution](https://www.anaconda.com/distribution/) a convenient way to install a DSP specific environment from terminal is using\n",
    "\n",
    "`conda create -n my_dsp python=3.7 pip numpy scipy sympy matplotlib notebook jupyterlab pydocstyle pycodestyle`\n",
    "\n",
    "It asks Anaconda to look for the latest Python 3.7x and currently fitting versions of all the packages requested.\n",
    "Then with\n",
    "`conda activate my_dsp`\n",
    "the environment is activated and Jupyter can be started with \n",
    "`jupyter notebook` ideally `cd` is already the folder you want to work in."
   ]
  },
  {
   "cell_type": "code",
   "execution_count": null,
   "metadata": {},
   "outputs": [],
   "source": [
    "# most common used packages for DSP, have a look into outher scipy submodules\n",
    "import numpy as np\n",
    "import matplotlib as mpl\n",
    "import matplotlib.pyplot as plt\n",
    "from scipy import signal\n",
    "from scipy import fftpack"
   ]
  },
  {
   "cell_type": "markdown",
   "metadata": {},
   "source": [
    "# Matrix"
   ]
  },
  {
   "cell_type": "code",
   "execution_count": null,
   "metadata": {},
   "outputs": [],
   "source": [
    "A = np.array([[11, 12, 13], [21, 22, 23], [31, 32, 33], [41, 42, 43]])  # shape: (4, 3)"
   ]
  },
  {
   "cell_type": "code",
   "execution_count": null,
   "metadata": {},
   "outputs": [],
   "source": [
    "A = np.array([[11, 12, 13, 14], [21, 22, 23, 24], [31, 32, 33, 34], [41, 42, 43, 44]])  # shape (4, 4)"
   ]
  },
  {
   "cell_type": "code",
   "execution_count": null,
   "metadata": {},
   "outputs": [],
   "source": [
    "print(A)\n",
    "print(A.shape)"
   ]
  },
  {
   "cell_type": "code",
   "execution_count": null,
   "metadata": {},
   "outputs": [],
   "source": [
    "B = A.T\n",
    "print(B)\n",
    "print(B.shape)"
   ]
  },
  {
   "cell_type": "markdown",
   "metadata": {},
   "source": [
    "# Vector"
   ]
  },
  {
   "cell_type": "code",
   "execution_count": null,
   "metadata": {},
   "outputs": [],
   "source": [
    "print(A[:, 0])  # this is actually the first column (vector)\n",
    "print(A[:, 0].shape)"
   ]
  },
  {
   "cell_type": "code",
   "execution_count": null,
   "metadata": {},
   "outputs": [],
   "source": [
    "print(A[1, :])  # this is actually the second row (vector)\n",
    "print(A[1, :].shape)"
   ]
  },
  {
   "cell_type": "markdown",
   "metadata": {},
   "source": [
    "Here, if we not assign the result to a variable, instead of returning a column vector (of e.g. shape: Nx1) or a row vector (of e.g. shape: 1xN), `numpy` returns a single dimension array, i.e. it collapses the array to 1D shape (N, ). This is in contrast to Matlab's handling of such array extractions.\n",
    "\n",
    "We can enforce to interpret single dimensions `numpy` arrays as column or row matrices, if we need this for certain calculations. The idea is to put the array into a new array with 2 dimensions. We see that `numpy` by default assigns a row vector, the column vector needs additional transpose then."
   ]
  },
  {
   "cell_type": "code",
   "execution_count": null,
   "metadata": {},
   "outputs": [],
   "source": [
    "c = np.array(A[:, 0], ndmin=2).T\n",
    "r = np.array(A[1, :], ndmin=2)\n",
    "\n",
    "print('column matrix:\\n', c, 'with shape', c.shape)\n",
    "print('row matrix:\\n', r, 'with shape', r.shape)"
   ]
  },
  {
   "cell_type": "markdown",
   "metadata": {},
   "source": [
    "We can alternatively do this with "
   ]
  },
  {
   "cell_type": "code",
   "execution_count": null,
   "metadata": {},
   "outputs": [],
   "source": [
    "c = np.row_stack((A[:,0]))\n",
    "r = np.column_stack((A[1,:]))\n",
    "\n",
    "print('column matrix:\\n', c, 'with shape', c.shape)\n",
    "print('row matrix:\\n', r, 'with shape', r.shape)"
   ]
  },
  {
   "cell_type": "markdown",
   "metadata": {},
   "source": [
    "If we really need this, there is a short form to assign column and row matrices, such as"
   ]
  },
  {
   "cell_type": "code",
   "execution_count": null,
   "metadata": {},
   "outputs": [],
   "source": [
    "c = np.c_[0:4]\n",
    "print('column matrix assigned with np.c_[]:\\n', c, 'of shape', c.shape)\n",
    "\n",
    "r = np.array(np.r_[0:4], ndmin=2)\n",
    "print('row matrix assigned with np.r_[] and ndmin=2:\\n', r, 'of shape', r.shape)"
   ]
  },
  {
   "cell_type": "markdown",
   "metadata": {},
   "source": [
    "# Inner / Outer Product\n",
    "\n",
    "If we leave `numpy`'s handling of single dimension arrays (giving up Matlab-related habits), we can perform outer and inner products as"
   ]
  },
  {
   "cell_type": "code",
   "execution_count": null,
   "metadata": {},
   "outputs": [],
   "source": [
    "# for (4,3)-matrix\n",
    "A = np.array([[11, 12, 13], [21, 22, 23], [31, 32, 33], [41, 42, 43]])\n",
    "c1 = A[:, 0]  # 1st col\n",
    "c2 = A[:, 1]  # 2nd col\n",
    "r2 = A[1, :]  # 2nd row\n",
    "r3 = A[2, :]  # 2nd row\n",
    "# we can do\n",
    "print(np.outer(c1,r2))\n",
    "print(np.outer(r2,c1))\n",
    "\n",
    "print(np.inner(c1,c2))\n",
    "print(np.inner(r2,r3))"
   ]
  },
  {
   "cell_type": "code",
   "execution_count": null,
   "metadata": {},
   "outputs": [],
   "source": [
    "# for (4,4)-matrix\n",
    "A = np.array([[11, 12, 13, 14], [21, 22, 23, 24], [31, 32, 33, 34], [41, 42, 43, 44]])\n",
    "c1 = A[:, 0]  # 1st col\n",
    "c2 = A[:, 1]  # 2nd col\n",
    "r2 = A[1, :]  # 2nd row\n",
    "r3 = A[2, :]  # 2nd row\n",
    "# we can do\n",
    "print(np.outer(c1,r2))\n",
    "print(np.outer(r2,c1))\n",
    "\n",
    "print(np.inner(c1,c2))\n",
    "print(np.inner(r2,r3))\n",
    "# and since dimension is ok further inner products:\n",
    "print(np.inner(c1,r2))\n",
    "print(np.inner(c1,r3))\n",
    "print(np.inner(c2,r2))\n",
    "print(np.inner(c2,r3))"
   ]
  },
  {
   "cell_type": "markdown",
   "metadata": {},
   "source": [
    "So, what happens to the inner product when thinking the Matlab style. Let's check with a single dimension array (1D) and a single row matrix (2D)."
   ]
  },
  {
   "cell_type": "code",
   "execution_count": null,
   "metadata": {},
   "outputs": [],
   "source": [
    "a = np.array(np.arange(0,4))  # single dimension array, 1D, (4, )\n",
    "print(a, a.shape)\n",
    "\n",
    "b = np.array(np.arange(0,4), ndmin=2)  # single row matrix, 2D, (1, 4)\n",
    "print(b, b.shape)\n",
    "\n",
    "print(np.dot(a, a))  # returns a scalar\n",
    "\n",
    "print(np.dot(b, b.T))  # returns 2D (1, 1) = matrix, needs row x columns handling\n",
    "print(np.matmul(b, b.T))  # returns 2D (1, 1) = matrix, needs row x columns handling"
   ]
  },
  {
   "cell_type": "markdown",
   "metadata": {},
   "source": [
    "# Matrix Multiplications, X = C D\n",
    "\n",
    "cf. Gilbert Strang, https://ocw.mit.edu/courses/mathematics/18-06-linear-algebra-spring-2010/, lecture 3"
   ]
  },
  {
   "cell_type": "code",
   "execution_count": null,
   "metadata": {},
   "outputs": [],
   "source": [
    "C = np.array([[1, 2, 3], [4, 5, 6]])  # 2D (2, 3)\n",
    "D = np.array([[7, 8], [9, 0], [1, 2]])  # 2D (3, 2)\n",
    "# matrix multiplication C times D is 2D (2, 2)\n",
    "print('C = ', C)\n",
    "print('D = ', D)\n"
   ]
  },
  {
   "cell_type": "code",
   "execution_count": null,
   "metadata": {},
   "outputs": [],
   "source": [
    "np.matmul(C, D)"
   ]
  },
  {
   "cell_type": "code",
   "execution_count": null,
   "metadata": {},
   "outputs": [],
   "source": [
    "C @ D\n",
    "# nice to have this operator that conveniently indicates\n",
    "# that we operate on matrices, vectors or thinking in numpy: on np.arrays"
   ]
  },
  {
   "cell_type": "markdown",
   "metadata": {},
   "source": [
    "**but not (as in Matlab)!**"
   ]
  },
  {
   "cell_type": "code",
   "execution_count": null,
   "metadata": {},
   "outputs": [],
   "source": [
    "if False:\n",
    "    C * D \n",
    "# using this operator overloading as Matlab does, just by inspecting this line\n",
    "# of code you cannot tell what operation shall be performed,, you need to know\n",
    "# what C and D is"
   ]
  },
  {
   "cell_type": "markdown",
   "metadata": {},
   "source": [
    "## 1st Way: row x columns (inner product) to get values at individual indices\n",
    "\n",
    "this is the least enlightening way so see how a matrix $\\mathbf{C}$ acts on a vector or here on a matrix $\\mathbf{D}$, but we probably all learned this first :-("
   ]
  },
  {
   "cell_type": "code",
   "execution_count": null,
   "metadata": {},
   "outputs": [],
   "source": [
    "X = np.zeros((2, 2), dtype=int)  # assign variable for result, we expect integer, so assign it\n",
    "for ri in range(0,2):\n",
    "    for ci in range(0,2):\n",
    "        X[ri, ci] = C[ri, :] @ D[:, ci]  # inner product = row of C x column of D\n",
    "        #X[ri, ci] = np.dot(C[ri, :], D[:, ci])\n",
    "X"
   ]
  },
  {
   "cell_type": "markdown",
   "metadata": {},
   "source": [
    "## 2nd Way: matrix C x n-th column of D = n-th column of X\n",
    "\n",
    "- n-th column of X is a linear combinations of columns of C, weights in n-th column of D\n",
    "\n",
    "- here dimensions: (2, 3) x (3, 1) = (2, 1)\n",
    "\n",
    "- useful mindset for the standard linear algebra problem $\\mathbf{A} \\mathbf{x} = \\mathbf{b}$"
   ]
  },
  {
   "cell_type": "code",
   "execution_count": null,
   "metadata": {
    "scrolled": true
   },
   "outputs": [],
   "source": [
    "np.array([C @ D[:,0], C @ D[:,1]]).T\n",
    "# we need the transpose due to the above discussed characteristics\n",
    "# on how numpy interprets resulting 1D arrays"
   ]
  },
  {
   "cell_type": "markdown",
   "metadata": {},
   "source": [
    "## 3rd Way: n-th row of C x matrix D = n-th row of X\n",
    "\n",
    "- n-th row of X is a linear combination of rows of D, weights in n-th row of C\n",
    "- here dimensions: (1, 3) x (3, 2) = (1, 2)\n",
    "- useful mindset when doing elimination, such as LU factorization or permutation of rows"
   ]
  },
  {
   "cell_type": "code",
   "execution_count": null,
   "metadata": {},
   "outputs": [],
   "source": [
    "np.squeeze(([C[0,:] @ D], [C[1,:] @ D]))  # stacked rows, nothing more to do here"
   ]
  },
  {
   "cell_type": "markdown",
   "metadata": {},
   "source": [
    "## 4th Way: sum of (columns x rows) = sum of outer products\n",
    "- useful mindset e.g. when C contains independent columns, D contains independent rows"
   ]
  },
  {
   "cell_type": "code",
   "execution_count": null,
   "metadata": {},
   "outputs": [],
   "source": [
    "np.outer(C[:,0], D[0,:]) + np.outer(C[:,1], D[1,:]) + np.outer(C[:,2], D[2,:]) "
   ]
  },
  {
   "cell_type": "markdown",
   "metadata": {},
   "source": [
    "# Complex Vectors and Inner Product\n",
    "\n",
    "Let us extend the vector space to complex numbers with two vectors $\\mathbf{x}_1$ and $\\mathbf{x}_2$."
   ]
  },
  {
   "cell_type": "code",
   "execution_count": null,
   "metadata": {},
   "outputs": [],
   "source": [
    "N = 32\n",
    "OmegaN = 2*np.pi/N\n",
    "k = np.arange(-N//2, N//2)\n",
    "x1 = np.exp(-1j*OmegaN * k * 1) / np.sqrt(N)\n",
    "x2 = np.exp(-1j*OmegaN * k * 2) / np.sqrt(N)"
   ]
  },
  {
   "cell_type": "markdown",
   "metadata": {},
   "source": [
    "These are complex exponentials and due to the chosen parameters, periodic in $N$. In facts, these can be considered as DFT eigensignals for $N=32$, actually for $\\mu=1$ and $\\mu=2$.\n",
    "\n",
    "Let's just plot these signals into one graph. The fastest way is to use `pyplot`, an API for `matplotlib`, it is similar to Matlab. `pyplot` is a good tool for quick'n dirty plots, whereas `matplotlib` gives you full access to any plotting objects, that's the professional way to plot. We leave it here with few simple calls of the `pyplot` API. "
   ]
  },
  {
   "cell_type": "code",
   "execution_count": null,
   "metadata": {},
   "outputs": [],
   "source": [
    "plt.plot(k, x1.real,'-o', color='C0', label='Re(x1), cos')\n",
    "# C0, C1...C9 are matplotlib standard colors\n",
    "# use them, its on purpose why using this blue, orange, green, red...\n",
    "# plain rgb and cmyl colors are not longer favored for nice colored graphs\n",
    "# due to perceptual reasons\n",
    "plt.plot(k, np.real(x2),'-o', color='C1', label=r'Re($x_2$), cos')  # latex math using raw string\n",
    "\n",
    "plt.plot(k, x1.imag,'-o', color='C2', label='Im(x1), -sin')\n",
    "plt.plot(k, np.imag(x2),'-o', color='C3', label=r'Im($x_2$), -sin')  # latex math using raw string\n",
    "\n",
    "plt.xlabel('k')\n",
    "plt.ylabel('x[k]')\n",
    "\n",
    "plt.legend()\n",
    "plt.grid(True)"
   ]
  },
  {
   "cell_type": "markdown",
   "metadata": {},
   "source": [
    "Back to vectors...\n",
    "\n",
    "We should know that these vectors are orthonormal, so let us verify this with the **complex inner** product."
   ]
  },
  {
   "cell_type": "code",
   "execution_count": null,
   "metadata": {},
   "outputs": [],
   "source": [
    "np.vdot(x1, x1)  # not exactly 1 due to numerical errors, even with double precision"
   ]
  },
  {
   "cell_type": "code",
   "execution_count": null,
   "metadata": {},
   "outputs": [],
   "source": [
    "np.dot(np.conj(x1), x1)"
   ]
  },
  {
   "cell_type": "code",
   "execution_count": null,
   "metadata": {},
   "outputs": [],
   "source": [
    "np.conj(x1) @ x1  # not recommended to do this with a matrix op"
   ]
  },
  {
   "cell_type": "code",
   "execution_count": null,
   "metadata": {},
   "outputs": [],
   "source": [
    "np.vdot(x2, x2)  # just always use the vdot()\n",
    "# for real valued vectors this changes nothing,\n",
    "# and for complex one this handling is failsafe"
   ]
  },
  {
   "cell_type": "code",
   "execution_count": null,
   "metadata": {},
   "outputs": [],
   "source": [
    "np.vdot(x1, x2)  # we expect 0"
   ]
  },
  {
   "cell_type": "code",
   "execution_count": null,
   "metadata": {},
   "outputs": [],
   "source": [
    "np.vdot(x2, x1)  # dot product is commutative, so this was actually not necessary"
   ]
  },
  {
   "cell_type": "markdown",
   "metadata": {},
   "source": [
    "We get expected result for orthonormal vectors, besides numerical precision errors.\n",
    "\n",
    "If you don't like complex signals / complex vector space that much, check it with plain unit amplitude cos() and sin() signals, periodic in $N$, where full periods fit into the signal length (= vector dimension)."
   ]
  },
  {
   "cell_type": "code",
   "execution_count": null,
   "metadata": {},
   "outputs": [],
   "source": [
    "x3 = np.cos(OmegaN * k * 3)\n",
    "x4 = np.sin(OmegaN * k * 5)\n",
    "\n",
    "plt.plot(k,x3,'o-', label='cos')\n",
    "plt.plot(k,x4,'o-', label='sin')\n",
    "plt.xlabel('k')\n",
    "plt.ylabel('x[k]')\n",
    "plt.legend()\n",
    "plt.grid(True)"
   ]
  },
  {
   "cell_type": "code",
   "execution_count": null,
   "metadata": {},
   "outputs": [],
   "source": [
    "np.vdot(x3, x3)  # max"
   ]
  },
  {
   "cell_type": "code",
   "execution_count": null,
   "metadata": {},
   "outputs": [],
   "source": [
    "np.vdot(x3, x4)  # 0"
   ]
  },
  {
   "cell_type": "markdown",
   "metadata": {},
   "source": [
    "These vectors are orthogonal, but **not orthonormal**.\n",
    "\n",
    "For real valued signals / vectors the **normal inner** product works as expected."
   ]
  },
  {
   "cell_type": "code",
   "execution_count": null,
   "metadata": {},
   "outputs": [],
   "source": [
    "np.dot(x4,x4)"
   ]
  },
  {
   "cell_type": "code",
   "execution_count": null,
   "metadata": {
    "scrolled": true
   },
   "outputs": [],
   "source": [
    "np.dot(x4,x3)"
   ]
  },
  {
   "cell_type": "markdown",
   "metadata": {},
   "source": [
    "# Surface Plot\n",
    "\n",
    "This is a simple example of a surface plot using\n",
    "- `pcolormesh` called with the `matplotlib` API\n",
    "- discrete valued colorbar based on `viridis` colormap. You might also check the `plasma`, `inferno`,`magma`,`cividis` colormaps for perceptually uniform sequential colormaps. If you need a diverging colormap (such as for nicely indicating positive and negative amplitudes of a waveform) `RdBu`, `seismic`, `bwr` (for non-red/blue colorblind people) do a good job. Colormaps like `jet` or `hsv` are not recommended, they do not match very well with our perception of the colorspace."
   ]
  },
  {
   "cell_type": "code",
   "execution_count": null,
   "metadata": {},
   "outputs": [],
   "source": [
    "x = np.arange(0,10)\n",
    "y = np.arange(-2,3)\n",
    "z = np.zeros((4,10))\n",
    "z[:,0] = np.arange(1,9,2)  # set up most left matrix column with simple entries\n",
    "z[:,-2] = np.arange(9,5,-1) # set up most right  matrix column with other entries\n",
    "col_tick = np.arange(0,11)  # intervals within colorbar and at the same time its ticks \n",
    "# do the plot job\n",
    "cmap=plt.cm.viridis\n",
    "norm = mpl.colors.BoundaryNorm(col_tick, cmap.N)\n",
    "fig, ax = plt.subplots(1, 1)\n",
    "c = ax.pcolormesh(x, y, z, cmap=cmap, norm=norm)\n",
    "cbar = fig.colorbar(c, ax=ax, ticks=col_tick[::2], label='colorbar label')\n",
    "ax.set_xlim(0,9)\n",
    "ax.set_ylim(-2,2)\n",
    "ax.set_xticks(np.arange(0,9,2))\n",
    "ax.set_yticks(np.arange(-2,3))\n",
    "ax.set_xlabel('x label')\n",
    "ax.set_ylabel('y label')\n",
    "ax.set_title('example plot')"
   ]
  },
  {
   "cell_type": "markdown",
   "metadata": {},
   "source": [
    "## Subplots with matplotlib"
   ]
  },
  {
   "cell_type": "code",
   "execution_count": null,
   "metadata": {},
   "outputs": [],
   "source": [
    "fig, ax = plt.subplots(2, 2)\n",
    "\n",
    "ax[0,0].plot(0,0,'or')\n",
    "ax[0,0].set_title('sub 1')\n",
    "\n",
    "ax[1,0].plot(1,0,'og')\n",
    "ax[1,0].set_title('sub 2')\n",
    "\n",
    "ax[0,1].plot(0,1,'ob')\n",
    "ax[0,1].set_title('sub 3')\n",
    "\n",
    "ax[1,1].plot(1,1,'ok')\n",
    "ax[1,1].set_title('sub 4')"
   ]
  },
  {
   "cell_type": "markdown",
   "metadata": {},
   "source": [
    "## Subplots with pyplot"
   ]
  },
  {
   "cell_type": "code",
   "execution_count": null,
   "metadata": {},
   "outputs": [],
   "source": [
    "plt.subplot(2,2,1)\n",
    "plt.plot(0,0,'or')\n",
    "plt.title('sub1')\n",
    "\n",
    "plt.subplot(2,2,3)\n",
    "plt.plot(1,0,'og')\n",
    "plt.title('sub3')\n",
    "\n",
    "plt.subplot(2,2,2)\n",
    "plt.plot(0,1,'ob')\n",
    "plt.title('sub2')\n",
    "\n",
    "plt.subplot(2,2,4)\n",
    "plt.plot(1,1,'ok')\n",
    "plt.title('sub4')"
   ]
  },
  {
   "cell_type": "markdown",
   "metadata": {},
   "source": [
    "**Copyright**\n",
    "\n",
    "The notebooks are provided as [Open Educational Resources](https://en.wikipedia.org/wiki/Open_educational_resources). Feel free to use the notebooks for your own purposes. The text is licensed under [Creative Commons Attribution 4.0](https://creativecommons.org/licenses/by/4.0/), the code of the IPython examples under the [MIT license](https://opensource.org/licenses/MIT). Please attribute the work as follows: *Frank Schultz, Digital Signal Processing - A Tutorial Featuring Computational Examples* with the URL https://github.com/spatialaudio/digital-signal-processing-exercises"
   ]
  }
 ],
 "metadata": {
  "kernelspec": {
   "display_name": "Python 3",
   "language": "python",
   "name": "python3"
  },
  "language_info": {
   "codemirror_mode": {
    "name": "ipython",
    "version": 3
   },
   "file_extension": ".py",
   "mimetype": "text/x-python",
   "name": "python",
   "nbconvert_exporter": "python",
   "pygments_lexer": "ipython3",
   "version": "3.7.5"
  }
 },
 "nbformat": 4,
 "nbformat_minor": 2
}
