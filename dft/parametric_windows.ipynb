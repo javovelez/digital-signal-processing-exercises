{
 "cells": [
  {
   "cell_type": "markdown",
   "metadata": {},
   "source": [
    "Sascha Spors,\n",
    "Professorship Signal Theory and Digital Signal Processing,\n",
    "Institute of Communications Engineering (INT),\n",
    "Faculty of Computer Science and Electrical Engineering (IEF),\n",
    "University of Rostock,\n",
    "Germany\n",
    "\n",
    "# Tutorial Digital Signal Processing\n",
    "\n",
    "**Parametric Windows: Dolph-Chebyshev, Slepian and Kaiser-Bessel Window**,\n",
    "Winter Semester 2020/21 (Course #24505)\n",
    "\n",
    "- lecture: https://github.com/spatialaudio/digital-signal-processing-lecture\n",
    "- tutorial: https://github.com/spatialaudio/digital-signal-processing-exercises\n",
    "\n",
    "Feel free to contact lecturer frank.schultz@uni-rostock.de"
   ]
  },
  {
   "cell_type": "markdown",
   "metadata": {},
   "source": [
    "# Parametric Windows: Dolph-Chebyshev, Slepian, Kaiser-Bessel Window\n",
    "\n",
    "There are numerous window types, all developed for special requirements.\n",
    "In the initial [DFT & Windowing](dft_windowing.ipynb) exercise and the detailed [DFT tutorial](dft_windowing_tutorial/dft_windowing_tutorial.pdf) we have learned about two very simple computable and very often used **non-parametric** windows, the Hann and the Hamming window.\n",
    "Non-parametric means that by desired window length $M$, the window and its DTFT spectrum are fully determined.\n",
    "In other words, if another spectral characteristics - very often we need higher spectral resolution - is asked for, then the only variable to change is $M$.\n",
    "\n",
    "The **Hann** window is **not optimal**, since it does not use two of its potential zeros to shape the sidelobes of its DTFT spectrum.\n",
    "The Hamming window introduces two additional zeros to the Hann window to reduce the level of the first sidelobe.\n",
    "Note that the Hann window is still often used nowadays, not due to its non-optimum spectrum, but rather due to its simple calculation of the window signal $w[k]$ requiring only a cosine and weight of $1/2$.\n",
    "\n",
    "So called **parametric** windows have additional parameters, that allow to meet certain constraints for a given overall design criterion.\n",
    "Two of the most prominent - in fact with these we probably can manage the majority of windowing applications - are the **Dolph-Chebyshev** and the **Kaiser-Bessel** window.\n",
    "These are optimum window designs.\n",
    "The Kaiser-Bessel window itself can be considered as an approximation of the so called **digital prolate spheroidal sequences** (DPSS, aka Slepian) window.\n",
    "\n",
    "We will discuss these windows below in terms of their design criteria and the resulting additional parameter that can be set up to meet a desired constraint.\n",
    "TBD..."
   ]
  },
  {
   "cell_type": "code",
   "execution_count": null,
   "metadata": {},
   "outputs": [],
   "source": [
    "import numpy as np\n",
    "import matplotlib.pyplot as plt\n",
    "from numpy.fft import fft, fftshift, ifft \n",
    "#from scipy.fft import fft, fftshift, ifft\n",
    "from scipy.signal.windows import chebwin, kaiser, slepian "
   ]
  },
  {
   "cell_type": "markdown",
   "metadata": {},
   "source": [
    "## Dolph-Chebyshev Window"
   ]
  },
  {
   "cell_type": "code",
   "execution_count": null,
   "metadata": {},
   "outputs": [],
   "source": [
    "# parameter for the window\n",
    "M = 64  # window length\n",
    "SidelobeAttenuation = 50  # in dB"
   ]
  },
  {
   "cell_type": "code",
   "execution_count": null,
   "metadata": {},
   "outputs": [],
   "source": [
    "w = chebwin(M, at=SidelobeAttenuation, sym=True)\n",
    "# note on the code from:\n",
    "# https://github.com/scipy/scipy/blob/v0.19.0/scipy/signal/windows.py#L1293-L1416\n",
    "#\n",
    "# The tricky part here is that the analytic equations given in most textbooks\n",
    "# such as e.g. R.G. Lyons (2011): \"Understanding Digital Signal Processing\",\n",
    "# Prentice Hall, Upper Saddle River, 3rd ed., eq. (5.17)\n",
    "# cannot be straightforwardly implemented due to numerical issues\n",
    "# however, certain parts of the equation can be identified as Chebyshev polynomials\n",
    "# (the window has its name from there) for which relations can be utilized.\n",
    "# This is done in the scipy code for p[x < -1], p[np.abs(x) <= 1]"
   ]
  },
  {
   "cell_type": "code",
   "execution_count": null,
   "metadata": {},
   "outputs": [],
   "source": [
    "plt.plot(w, 'C0o-', ms=5, color='C0')\n",
    "plt.xlabel(r'sample $k$')\n",
    "plt.ylabel(r'$w[k]$')\n",
    "plt.title('Dolph-Chebyshev window')\n",
    "plt.grid(True)"
   ]
  },
  {
   "cell_type": "code",
   "execution_count": null,
   "metadata": {},
   "outputs": [],
   "source": [
    "Nz = 2**16  # zeropadding of window -> quasi-cont resolution of W for DTFT\n",
    "Omega = 2*np.pi/Nz * np.arange(Nz)\n",
    "wz = np.zeros(Nz)\n",
    "wz[0:M] = w\n",
    "Wz = fft(wz)\n",
    "Wzmax = np.max(20*np.log10(np.abs(Wz)))\n",
    "plt.plot(Omega, 20*np.log10(np.abs(Wz))-Wzmax, 'k')\n",
    "plt.plot(Omega-np.pi, 20*np.log10(np.abs(fftshift(Wz)))-Wzmax, 'C0')\n",
    "plt.plot([np.pi, np.pi], [-120, 10], 'C7')\n",
    "plt.xlabel(r'$\\Omega$ / rad')\n",
    "plt.ylabel(r'$|W(\\Omega)|$ in dB')\n",
    "plt.xlim(-np.pi, 2*np.pi)\n",
    "plt.ylim(-100, 10)\n",
    "plt.title('DTFT Spectrum of Dolph-Chebyshev Window with %d Zeros' %(M-1))\n",
    "plt.grid(True)"
   ]
  },
  {
   "cell_type": "markdown",
   "metadata": {},
   "source": [
    "We might figure out the design criterion of the Dolph-Chebyshev by ourselves, when inspecting the DTFT spectrum of it.\n",
    "Hint: How is the additional parameter linked to the DTFT spectrum.\n",
    "Vary `M` and `SidelobeAttenuation` and check for changes.\n",
    "For small `M` (to make analysis convenient) check how the zeros are placed in the spectrum to meet the design criterion."
   ]
  },
  {
   "cell_type": "markdown",
   "metadata": {},
   "source": [
    "## Slepian Window\n",
    "\n",
    "The design criterion of the **Slepian** (also named **digital prolate spheroidal sequences** (DPSS)) window is **maximum energy** concentration in the **main lobe** for a given mainlobe **bandwidth**.\n",
    "Actually, this is what we typically ask for signal analysis, if no other specific constraints about the sidelobes positions and there levels are requested.\n",
    "\n",
    "Recall, that the DTFT spectrum for the 'ideal world' window is the Dirac impulse (steming from the practically not feasible infinite rectangular window), so mainlobe energy concentration seems to be a very good approach to get close to it.\n",
    "\n",
    "See\n",
    "\n",
    "- Surendra Prasad (1982): \"On an Index for Array Optimization and the Discrete Prolate Spheroidal Functions.\" In:\n",
    "IEEE Transactions on Antennas and Propagation, vol. AP-30, no. 5, pg. 1021-1023, [DOI: 10.1109/TAP.1982.1142900](https://doi.org/10.1109/TAP.1982.1142900)\n",
    "\n",
    "- Michael Möser (1988): \"Analyse und Synthese akustischer Spektren.\", Springer, Berlin, Kap. 3.2.2, [DOI: 10.1007/978-3-642-93374-5](https://doi.org/10.1007/978-3-642-93374-5)\n",
    "\n",
    "- Julius O. Smith (2011): Spectral Audio Signal Processing, online lecture of CCRMA, Stanford University, https://ccrma.stanford.edu/~jos/sasp/Slepian_DPSS_Window.html\n",
    "\n",
    "\n",
    "for treatments how to derive the Slepian window.\n",
    "\n",
    "Challenging question:\n",
    "What window type results if we ask the Slepian window to produce mainlobe bandwidth $\\rightarrow 0$?\n",
    "Implement a test case to approach the answer. "
   ]
  },
  {
   "cell_type": "code",
   "execution_count": null,
   "metadata": {},
   "outputs": [],
   "source": [
    "# parameter for the window\n",
    "M = 64  # window length\n",
    "bw = 2*np.pi/45  # -3dB bandwidth of the main lobe in terms of digital frequency\n",
    "# empirically found for the specific window length"
   ]
  },
  {
   "cell_type": "markdown",
   "metadata": {},
   "source": [
    "For the chosen example, this Slepian window has (i) the same window length and (ii) the first sidelobe is at about -50 dB like the Dolph-Chebyshev window above."
   ]
  },
  {
   "cell_type": "code",
   "execution_count": null,
   "metadata": {},
   "outputs": [],
   "source": [
    "w = slepian(M, width=bw, sym=True)\n",
    "plt.plot(w, 'C0o-', ms=5)\n",
    "plt.xlabel(r'sample $k$')\n",
    "plt.ylabel(r'$w[k]$')\n",
    "plt.title('Slepian window')\n",
    "plt.grid(True)"
   ]
  },
  {
   "cell_type": "code",
   "execution_count": null,
   "metadata": {},
   "outputs": [],
   "source": [
    "Nz = 2**16  # zeropadding of window -> quasi-cont resolution of W for DTFT\n",
    "Omega = 2*np.pi/Nz*np.arange(Nz)\n",
    "wz = np.zeros(Nz)\n",
    "wz[0:M] = w\n",
    "Wz = fft(wz)\n",
    "Wzmax = np.max(20*np.log10(np.abs(Wz)))\n",
    "plt.plot([np.pi, np.pi], [-120, 10], 'k')\n",
    "plt.plot([-np.pi, 2*np.pi], [-3.01, -3.01], 'C1')\n",
    "plt.plot([-np.pi, 2*np.pi], [-50, -50], 'dimgray')\n",
    "plt.plot([-bw/2, -bw/2], [-120, 10], color='C1')\n",
    "plt.plot([+bw/2, +bw/2], [-120, 10], color='C1')\n",
    "plt.plot(Omega, 20*np.log10(np.abs(Wz))-Wzmax, 'k')\n",
    "plt.plot(Omega-np.pi, 20*np.log10(np.abs(fftshift(Wz)))-Wzmax, 'C0')\n",
    "plt.xlabel(r'$\\Omega$ / rad')\n",
    "plt.ylabel(r'$|W(\\Omega)|$ in dB')\n",
    "plt.xlim(-np.pi, 2*np.pi)\n",
    "\n",
    "# zoom the main lobe\n",
    "if False:\n",
    "    plt.xlim(-5*bw, +5*bw)\n",
    "\n",
    "plt.ylim(-100, 10)\n",
    "plt.title('DTFT Spectrum of Slepian Window with %d Zeros' % (M-1))\n",
    "plt.grid(True)"
   ]
  },
  {
   "cell_type": "markdown",
   "metadata": {},
   "source": [
    "## Kaiser-Bessel Window\n",
    "\n",
    "The Kaiser-Bessel window is an **approximation** of the Slepian window **for large window lengths** $M$, note however that for they will be never identical.\n",
    "In the days of its **invention by Kaiser** it was much easier to compute it than the digital prolate spheroidal sequences discussed above. \n",
    "This is due to the explicit given equation for the Kaiser-Bessel window, whereas for the Slepian window an eigenwert problem for a $M/2$ matrix has to be numerically solved.\n",
    "The Kaiser-Bessel window requires the [zeroth-order modified **Bessel** function of the first kind](https://dlmf.nist.gov/10.25) $I_0(\\cdot)$ to calculate the window signal $w[k]$.\n",
    "Thus, the given name in the DSP literature.\n",
    "\n",
    "TBD..."
   ]
  },
  {
   "cell_type": "markdown",
   "metadata": {},
   "source": [
    "## Comparison of the Windows\n",
    "\n",
    "What are the differences between the discussed **parametric** window types of same length and about the same level of the first sidelobe?"
   ]
  },
  {
   "cell_type": "code",
   "execution_count": null,
   "metadata": {},
   "outputs": [],
   "source": [
    "L = 1  # check for increasing integer L\n",
    "# how Slepian and the Kaiser-Bessel approximation converge\n",
    "\n",
    "M = 2**6 * L\n",
    "Nz = 2**6 * M  # zeropadding of window -> quasi-cont resolution of W for DTFT\n",
    "k = np.arange(M)\n",
    "bw = 2*np.pi/(45*L)\n",
    "Omega = 2*np.pi/Nz * np.arange(Nz)\n",
    "wdc = chebwin(M, at=50, sym=True)  # dolph-chebyshev\n",
    "wslep = slepian(M, width=bw, sym=True)  # slepian\n",
    "wkb = kaiser(M, beta=6.85, sym=True)  # kaiser-bessel\n",
    "\n",
    "Wdc = np.zeros(Nz)\n",
    "Wdc[0:M] = wdc\n",
    "Wdc = fftshift(fft(Wdc))\n",
    "Wdc /= np.max(np.abs(Wdc))\n",
    "\n",
    "Wslep = np.zeros(Nz)\n",
    "Wslep[0:M] = wslep\n",
    "Wslep = fftshift(fft(Wslep))\n",
    "Wslep /= np.max(np.abs(Wslep))\n",
    "\n",
    "Wkb = np.zeros(Nz)\n",
    "Wkb[0:M] = wkb\n",
    "Wkb = fftshift(fft(Wkb))\n",
    "Wkb /= np.max(np.abs(Wkb))\n",
    "\n",
    "plt.figure(figsize=(7, 7))\n",
    "plt.subplot(2, 1, 1)\n",
    "plt.plot(k, wdc, label='Dolph-Chebyshev')\n",
    "plt.plot(k, wslep, label='Slepian')\n",
    "plt.plot(k, wkb, label='Kaiser-Bessel', color='C3')\n",
    "plt.xlabel(r'sample $k$')\n",
    "plt.ylabel(r'$w[k]$')\n",
    "plt.title('M=%d' % M)\n",
    "plt.legend()\n",
    "plt.grid(True)\n",
    "\n",
    "plt.subplot(2, 1, 2)\n",
    "plt.plot((-np.pi, +np.pi), (-50, -50), color='dimgray')\n",
    "plt.plot(Omega-np.pi, 20*np.log10(np.abs(Wdc)))\n",
    "plt.plot(Omega-np.pi, 20*np.log10(np.abs(Wslep)))\n",
    "plt.plot(Omega-np.pi, 20*np.log10(np.abs(Wkb)), color='C3')\n",
    "plt.ylim(-100, 0)\n",
    "plt.xlim(-np.pi, +np.pi)\n",
    "\n",
    "# zoom the main lobe:\n",
    "if False:\n",
    "    plt.xlim(-3*bw, +3*bw)\n",
    "\n",
    "plt.xlabel(r'$\\Omega$ / rad')\n",
    "plt.ylabel(r'$|W(\\Omega)|$ in dB')\n",
    "plt.grid(True)"
   ]
  },
  {
   "cell_type": "markdown",
   "metadata": {},
   "source": [
    "**Copyright**\n",
    "\n",
    "The notebooks are provided as [Open Educational Resources](https://en.wikipedia.org/wiki/Open_educational_resources). Feel free to use the notebooks for your own purposes. The text is licensed under [Creative Commons Attribution 4.0](https://creativecommons.org/licenses/by/4.0/), the code of the IPython examples under the [MIT license](https://opensource.org/licenses/MIT). Please attribute the work as follows: *Frank Schultz, Digital Signal Processing - A Tutorial Featuring Computational Examples* with the URL https://github.com/spatialaudio/digital-signal-processing-exercises"
   ]
  }
 ],
 "metadata": {
  "kernelspec": {
   "display_name": "Python 3",
   "language": "python",
   "name": "python3"
  },
  "language_info": {
   "codemirror_mode": {
    "name": "ipython",
    "version": 3
   },
   "file_extension": ".py",
   "mimetype": "text/x-python",
   "name": "python",
   "nbconvert_exporter": "python",
   "pygments_lexer": "ipython3",
   "version": "3.7.6"
  }
 },
 "nbformat": 4,
 "nbformat_minor": 2
}
