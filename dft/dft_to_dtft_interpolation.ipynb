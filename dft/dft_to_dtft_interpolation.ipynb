{
 "cells": [
  {
   "cell_type": "markdown",
   "metadata": {},
   "source": [
    "Sascha Spors,\n",
    "Professorship Signal Theory and Digital Signal Processing,\n",
    "Institute of Communications Engineering (INT),\n",
    "Faculty of Computer Science and Electrical Engineering (IEF),\n",
    "University of Rostock,\n",
    "Germany\n",
    "\n",
    "# Tutorial Digital Signal Processing\n",
    "\n",
    "**DFT to DTFT Interpolation with the Periodic Sinc Function**,\n",
    "Winter Semester 2020/21 (Course #24505)\n",
    "\n",
    "- lecture: https://github.com/spatialaudio/digital-signal-processing-lecture\n",
    "- tutorial: https://github.com/spatialaudio/digital-signal-processing-exercises\n",
    "\n",
    "Feel free to contact lecturer frank.schultz@uni-rostock.de\n"
   ]
  },
  {
   "cell_type": "code",
   "execution_count": null,
   "metadata": {},
   "outputs": [],
   "source": [
    "import numpy as np\n",
    "import matplotlib as mpl\n",
    "import matplotlib.pyplot as plt\n",
    "from scipy import signal\n",
    "from scipy import fftpack\n",
    "from scipy import special"
   ]
  },
  {
   "cell_type": "markdown",
   "metadata": {},
   "source": [
    "# DFT to DTFT Interpolation with the Periodic Sinc Function\n",
    "\n",
    "The DFT spectrum $X[\\mu]$ can be interpolated towards the DTFT spectrum $X(\\Omega)$ with\n",
    "\n",
    "\\begin{equation}\n",
    "X(\\Omega)=\\sum_{\\mu=0}^{N-1}X[\\mu]\\cdot\\mathrm{e}^{-\\mathrm{j}\\frac{\\left(\\Omega-\\frac{2\\pi}{N}\\mu\\right)(N-1)}{2}}\\cdot\\text{psinc}_N\\left(\\Omega-\\frac{2\\pi}{N}\\mu\\right).\n",
    "\\end{equation}\n",
    "\n",
    "The interpolation kernel utilises the so-called **periodic sinc function**\n",
    "\n",
    "\\begin{align}\n",
    "\\text{psinc}_N(\\Omega)=\\begin{cases}\\frac{1}{N}\\cdot\\frac{\\sin\\left(\\frac{N}{2}\\Omega\\right)}{\\sin\\left(\\frac{1}{2}\\Omega\\right)}&\\text{for }\\Omega\\neq2\\pi m\\\\\n",
    "(-1)^{m(N-1)}&\\text{for }\\Omega=2\\pi m\\end{cases},\\,\\,m\\in\\mathbb{Z},\n",
    "\\end{align}\n",
    "\n",
    "which is also known as aliased sinc and Dirichlet function.\n",
    "\n",
    "Below, we give an example graph for $\\text{psinc}_N(\\Omega)$.\n",
    "Note that the orange dots indicate the DFT eigenfrequencies."
   ]
  },
  {
   "cell_type": "code",
   "execution_count": null,
   "metadata": {},
   "outputs": [],
   "source": [
    "def dft2dtft(X, W):\n",
    "    N = len(X)\n",
    "    Xi = np.zeros(len(W), dtype='complex')\n",
    "    for i, Omega in enumerate (W):\n",
    "        for mu_dft in range(N):\n",
    "            Xi[i] += X[mu_dft] *\\\n",
    "            np.exp(-1j/2*(Omega - 2*np.pi/N*mu_dft)*(N-1)) *\\\n",
    "            special.diric(Omega - 2*np.pi/N*mu_dft, N)\n",
    "    return Xi"
   ]
  },
  {
   "cell_type": "code",
   "execution_count": null,
   "metadata": {},
   "outputs": [],
   "source": [
    "K = 3\n",
    "\n",
    "N_DFT = 2**K\n",
    "Omega_DFT = np.arange(-2*N_DFT, 2*N_DFT) * 2*np.pi/N_DFT\n",
    "N = 2**(K+4)\n",
    "Omega = np.arange(-2*N, 2*N) * 2*np.pi/N\n",
    "psinc_DFT = special.diric(Omega_DFT, N_DFT)\n",
    "psinc = special.diric(Omega, N_DFT)\n",
    "\n",
    "plt.plot(Omega,psinc,label='psinc')\n",
    "plt.plot(Omega_DFT,psinc_DFT,'o',label='DFT bins')\n",
    "plt.xlim(-4*np.pi,4*np.pi)\n",
    "plt.xticks(np.arange(-4,5,1)*np.pi)\n",
    "plt.xlabel(r'$\\Omega$')\n",
    "plt.ylabel(r'psinc($\\Omega$)')\n",
    "plt.title('psinc for '+str(N_DFT)+'-point DFT')\n",
    "plt.legend()\n",
    "plt.grid(True)\n"
   ]
  },
  {
   "cell_type": "markdown",
   "metadata": {},
   "source": [
    "Note, that this interpolation implies:\n",
    "- the DFT $X[\\mu]$ stems from a signal $x[k]$ for which periodicity of $N$ is inherent, we assume the first period at $0\\leq k\\leq N-1$ \n",
    "- the DFT spectrum is discrete and $N$ periodic\n",
    "- the DTFT spectrum stems from the signal $x[k]$ for $0\\leq k\\leq N-1$, for all other $k$ is $x[k]=0$, i.e. considering only one period\n",
    "- the DTFT spectrum is continuous and $2\\pi$ periodic, which means that the signal $x[k]$ can not be periodic\n"
   ]
  },
  {
   "cell_type": "markdown",
   "metadata": {},
   "source": [
    "## Task: DFT Analysis Using a Rectangular Window\n",
    "\n",
    "A cosine signal\n",
    "- $x[k]=\\cos(\\Omega k + \\pi/4)$ with\n",
    "- $\\Omega=2\\cdot\\frac{2\\pi}{N}$, \n",
    "- $N=8$,\n",
    "- $0\\leq k \\leq N-1$\n",
    "is to be analysed with the DFT \n",
    "\n",
    "\\begin{align}\n",
    "X[\\mu]=\\sum_{k=0}^{N-1}x[k]\\cdot\\mathrm{e}^{-\\mathrm{j}\\frac{2\\pi}{N}k\\mu}\n",
    "\\end{align}\n",
    "\n",
    "Assume that $x[k]$ results from continuous-time signal $x(t)$ using a (very low) sampling frequency of $f_s=10$ Hz.\n",
    "\n",
    "1. Calculate the spectrum $X[\\mu]$ of $x[k]$ and visualise the real and imaginary part as well as the magnitude and the phase of $X[\\mu]$ over $0\\leq\\mu\\leq N-1$.\n",
    "\n",
    "2. Check the expected symmetries.\n",
    "\n",
    "3. Implement the above mentioned interpolation and visualise the resulting magnitude spectrum $|X_i[\\mu]|$\n",
    "over $\\mu$, $\\Omega$ as well as physical frequency $f$.\n",
    "\n",
    "4. Repeat the steps 1) to 3) for $N=9$. What is different?\n",
    "\n",
    "5. Repeat the steps 1) to 4) for $\\Omega=2.5\\cdot\\frac{2\\pi}{N}$. What is different now?\n"
   ]
  },
  {
   "cell_type": "markdown",
   "metadata": {},
   "source": [
    "## Generate Signal and Perform DFT, Plot"
   ]
  },
  {
   "cell_type": "code",
   "execution_count": null,
   "metadata": {},
   "outputs": [],
   "source": [
    "fs = 10  # sampling frequency in Hz\n",
    "\n",
    "N = 8\n",
    "mu_bwcase = N//2\n",
    "\n",
    "k = np.arange(0,N)\n",
    "wRect = k*0+1\n",
    "wHann = (1 - np.cos(2*np.pi/N*(k+1/2)))/2\n",
    "wHamming = 0.54 - 0.46 * np.cos(2*np.pi/N*(k+1/2))\n",
    "\n",
    "w = wRect\n",
    "#w = wHann\n",
    "#w = wHamming\n",
    "\n",
    "mu = np.arange(0,N)\n",
    "#x = np.cos(mu_bwcase * 2*np.pi/N * k)\n",
    "x = np.exp(+1j*mu_bwcase * 2*np.pi/N * k) * w\n",
    "X = fftpack.fft(x)\n",
    "\n",
    "plt.plot(k,np.real(x),'o-', label='real')\n",
    "plt.plot(k,np.imag(x),'o-', label='imag')\n",
    "plt.xlabel('k')\n",
    "plt.ylabel('x[k]')\n",
    "plt.legend()\n",
    "plt.grid(True)"
   ]
  },
  {
   "cell_type": "code",
   "execution_count": null,
   "metadata": {},
   "outputs": [],
   "source": []
  },
  {
   "cell_type": "markdown",
   "metadata": {},
   "source": [
    "## DTFT"
   ]
  },
  {
   "cell_type": "code",
   "execution_count": null,
   "metadata": {},
   "outputs": [],
   "source": [
    "Ni = 2**12\n",
    "W = np.arange(0,Ni) * 2*np.pi/Ni  # Omega for which to interpolate to DTFT\n",
    "f = W / (2*np.pi) * fs  # physical frequency based on W using fs\n",
    "mui = W / (2*np.pi) * N  # frequency vector normalized to integer frequencies\n",
    "\n",
    "Xi = dft2dtft(X, W)  # DTFT interpolation from DFT"
   ]
  },
  {
   "cell_type": "code",
   "execution_count": null,
   "metadata": {},
   "outputs": [],
   "source": [
    "plt.figure(figsize=(12,3))\n",
    "plt.subplot(1,2,1)\n",
    "plt.plot(W, np.abs(Xi), label='DTFT')\n",
    "plt.xlabel(r'$\\Omega$')\n",
    "plt.ylabel('|X|')\n",
    "plt.legend()\n",
    "plt.title('N='+str(N)+', mu='+str(mu_bwcase))\n",
    "plt.grid(True)\n",
    "\n",
    "plt.subplot(1,2,2)\n",
    "plt.plot(W, 20*np.log10(np.abs(Xi)), label='DTFT')\n",
    "plt.ylim(-60, 20)\n",
    "plt.xlabel(r'$\\Omega$')\n",
    "plt.ylabel('|X| in dB')\n",
    "plt.legend()\n",
    "plt.title('N='+str(N)+', mu='+str(mu_bwcase))\n",
    "plt.grid(True)\n"
   ]
  },
  {
   "cell_type": "code",
   "execution_count": null,
   "metadata": {},
   "outputs": [],
   "source": [
    "# 1.\n",
    "# 2. (orange line / orange dot for axial / point symmetry)\n",
    "\n",
    "plt.figure(figsize=(10,6))\n",
    "\n",
    "plt.subplot(2,2,1)\n",
    "plt.plot(mu, np.real(X),'o')\n",
    "plt.plot([N/2, N/2],[0,N+2])\n",
    "plt.xlim(0,N)\n",
    "plt.ylim(0,N+2)\n",
    "plt.xlabel(r'$\\mu$')\n",
    "plt.ylabel(r'$Re(X[\\mu])$')\n",
    "plt.grid(True)\n",
    "\n",
    "plt.subplot(2,2,2)\n",
    "plt.plot(mu, np.imag(X),'o')\n",
    "plt.plot([N/2],[0], 'o',ms=3)\n",
    "plt.xlim(0,N)\n",
    "plt.ylim(0,N+2)\n",
    "plt.xlabel(r'$\\mu$')\n",
    "plt.ylabel(r'$Im(X[\\mu])$')\n",
    "plt.grid(True)\n",
    "\n",
    "plt.subplot(2,2,3)\n",
    "plt.plot(mu, np.abs(X),'o')\n",
    "plt.plot([N/2, N/2],[0,N+2])\n",
    "plt.xlim(0,N)\n",
    "plt.ylim(0,N+2)\n",
    "plt.xlabel(r'$\\mu$')\n",
    "plt.ylabel(r'$|X[\\mu]|$')\n",
    "plt.grid(True)\n",
    "\n",
    "plt.subplot(2,2,4)\n",
    "plt.plot(mu, np.angle(X)/np.pi,'o')\n",
    "plt.plot([N/2],[0], 'o',ms=3)\n",
    "plt.xlim(0,N)\n",
    "plt.ylim(-1,1)\n",
    "plt.yticks(np.arange(-4,4)*0.25)\n",
    "plt.xlabel(r'$\\mu$')\n",
    "plt.ylabel(r'$angle(X[\\mu])\\,/\\,\\pi$')\n",
    "plt.grid(True)"
   ]
  },
  {
   "cell_type": "code",
   "execution_count": null,
   "metadata": {},
   "outputs": [],
   "source": []
  },
  {
   "cell_type": "markdown",
   "metadata": {},
   "source": [
    "## DFT -> DTFT Interpolation"
   ]
  },
  {
   "cell_type": "code",
   "execution_count": null,
   "metadata": {},
   "outputs": [],
   "source": [
    "# 3.\n",
    "\n",
    "max_ylim = np.round(np.max(20*np.log10(np.abs(Xi)))/10)*10+10\n",
    "min_ylim = max_ylim - 120\n",
    "\n",
    "plt.figure(figsize=(10,10))\n",
    "\n",
    "plt.subplot(3,2,1)\n",
    "plt.plot(mui, np.abs(Xi), label='DTFT')\n",
    "plt.plot(mu,np.abs(X),'o', label='DFT')\n",
    "plt.xticks(np.arange(0,N,2))\n",
    "plt.xlabel(r'$\\mu$')\n",
    "plt.ylabel('|X|')\n",
    "plt.title('N='+str(N)+', mu='+str(mu_bwcase))\n",
    "plt.legend()\n",
    "plt.grid(True)\n",
    "\n",
    "plt.subplot(3,2,2)\n",
    "plt.plot(mui, 20*np.log10(np.abs(Xi)), label='DTFT')\n",
    "plt.plot(mu,20*np.log10(np.abs(X)),'o', label='DFT')\n",
    "plt.xticks(np.arange(0,N,2))\n",
    "plt.ylim(min_ylim, max_ylim,20)\n",
    "plt.yticks(np.arange(min_ylim,max_ylim+20,20))\n",
    "plt.xlabel(r'$\\mu$')\n",
    "plt.ylabel('20lg|X| / dB')\n",
    "plt.title('N='+str(N)+', mu='+str(mu_bwcase))\n",
    "plt.legend()\n",
    "plt.grid(True)\n",
    "\n",
    "plt.subplot(3,2,3)\n",
    "plt.plot(W, np.abs(Xi), label='DTFT')\n",
    "plt.plot(2*np.pi/N*mu,np.abs(X),'o', label='DFT')\n",
    "plt.xlabel(r'$\\Omega$')\n",
    "plt.ylabel('|X|')\n",
    "plt.grid(True)\n",
    "\n",
    "plt.subplot(3,2,4)\n",
    "plt.plot(W, 20*np.log10(np.abs(Xi)), label='DTFT')\n",
    "plt.plot(2*np.pi/N*mu, 20*np.log10(np.abs(X)),'o', label='DFT')\n",
    "plt.ylim(min_ylim, max_ylim,20)\n",
    "plt.yticks(np.arange(min_ylim,max_ylim+20,20))\n",
    "plt.xlabel(r'$\\Omega$')\n",
    "plt.ylabel('20lg|X| / dB')\n",
    "plt.grid(True)\n",
    "\n",
    "\n",
    "plt.subplot(3,2,5)\n",
    "plt.plot(f, np.abs(Xi), label='DTFT')\n",
    "plt.plot(mu*fs/N,np.abs(X),'o', label='DFT')\n",
    "plt.xlabel(r'f / Hz')\n",
    "plt.ylabel('|X|')\n",
    "plt.grid(True)\n",
    "\n",
    "plt.subplot(3,2,6)\n",
    "plt.plot(f, 20*np.log10(np.abs(Xi)), label='DTFT')\n",
    "plt.plot(mu*fs/N, 20*np.log10(np.abs(X)),'o', label='DFT')\n",
    "plt.ylim(min_ylim, max_ylim,20)\n",
    "plt.yticks(np.arange(min_ylim,max_ylim+20,20))\n",
    "plt.xlabel(r'f / Hz')\n",
    "plt.ylabel('20lg|X| / dB')\n",
    "plt.grid(True)"
   ]
  },
  {
   "cell_type": "markdown",
   "metadata": {},
   "source": [
    "with the above plot one can explain the window DTFT spectrum, since we are using exp(j2pi/4*4*k) as input signal, so conv X * W leads to main lobe at pi. "
   ]
  },
  {
   "cell_type": "code",
   "execution_count": null,
   "metadata": {},
   "outputs": [],
   "source": [
    "10**(-13/20) * 8"
   ]
  },
  {
   "cell_type": "markdown",
   "metadata": {},
   "source": [
    "**Copyright**\n",
    "\n",
    "The notebooks are provided as [Open Educational Resources](https://en.wikipedia.org/wiki/Open_educational_resources). Feel free to use the notebooks for your own purposes. The text is licensed under [Creative Commons Attribution 4.0](https://creativecommons.org/licenses/by/4.0/), the code of the IPython examples under the [MIT license](https://opensource.org/licenses/MIT). Please attribute the work as follows: *Frank Schultz, Digital Signal Processing - A Tutorial Featuring Computational Examples* with the URL https://github.com/spatialaudio/digital-signal-processing-exercises"
   ]
  },
  {
   "cell_type": "code",
   "execution_count": null,
   "metadata": {},
   "outputs": [],
   "source": []
  }
 ],
 "metadata": {
  "kernelspec": {
   "display_name": "Python 3",
   "language": "python",
   "name": "python3"
  },
  "language_info": {
   "codemirror_mode": {
    "name": "ipython",
    "version": 3
   },
   "file_extension": ".py",
   "mimetype": "text/x-python",
   "name": "python",
   "nbconvert_exporter": "python",
   "pygments_lexer": "ipython3",
   "version": "3.7.6"
  }
 },
 "nbformat": 4,
 "nbformat_minor": 2
}
