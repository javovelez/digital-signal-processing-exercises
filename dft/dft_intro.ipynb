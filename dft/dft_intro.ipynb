{
 "cells": [
  {
   "cell_type": "markdown",
   "metadata": {},
   "source": [
    "Sascha Spors,\n",
    "Professorship Signal Theory and Digital Signal Processing,\n",
    "Institute of Communications Engineering (INT),\n",
    "Faculty of Computer Science and Electrical Engineering (IEF),\n",
    "University of Rostock, Germany\n",
    "\n",
    "Digital Signal Processing (Course #24505),\n",
    "Tutorial 1 & 2,\n",
    "Winter Semester 2019/20\n",
    "\n",
    "Feel free to contact lecturer frank.schultz@uni-rostock.de\n",
    "\n",
    "- lecture: https://github.com/spatialaudio/digital-signal-processing-lecture\n",
    "- tutorial: https://github.com/spatialaudio/digital-signal-processing-exercises"
   ]
  },
  {
   "cell_type": "code",
   "execution_count": null,
   "metadata": {},
   "outputs": [],
   "source": [
    "import numpy as np\n",
    "import matplotlib.pyplot as plt\n",
    "from numpy.linalg import inv"
   ]
  },
  {
   "cell_type": "markdown",
   "metadata": {},
   "source": [
    "# Discrete Fourier Transform (DFT)\n",
    "\n",
    "## Input Signal\n",
    "\n",
    "Let us first define a complex-valued signal $x[k]$ of a certain block length $N$ ranging from $0\\leq k\\leq N-1$.\n",
    "\n",
    "The variable `tmpmu` defines the frequency of the signal. We will see later how this is connected to the DFT.\n",
    "For now on, leave it with `tmpmu=1`. This results in exactly one period of cosine and sine building the complex signal. If `tmpmu=2` we get exactly two periods of cos/sin. You get an idea of `tmpmu`..."
   ]
  },
  {
   "cell_type": "code",
   "execution_count": null,
   "metadata": {},
   "outputs": [],
   "source": [
    "N = 2**3  # signal block length\n",
    "k = np.arange(0, N)  # all required sample/time indices\n",
    "A = 10  # signal amplitude\n",
    "tmpmu = 2-1/2  # DFT eigenfrequency worst case\n",
    "tmpmu = 1  # DFT eigenfrequency best case\n",
    "x = A * np.exp(tmpmu * 1j*2*np.pi/N * k)\n",
    "\n",
    "# plot\n",
    "plt.plot(k,np.real(x),color='C0')\n",
    "plt.plot(k,np.real(x),'o',color='C0',label='real')\n",
    "plt.plot(k,np.imag(x),color='C1')\n",
    "plt.plot(k,np.imag(x),'o',color='C1',label='imag')\n",
    "plt.xlabel('sample k')\n",
    "plt.ylabel('input signal x[k]')\n",
    "plt.legend()\n",
    "plt.grid(True)"
   ]
  },
  {
   "cell_type": "markdown",
   "metadata": {},
   "source": [
    "We will now perform an DFT of $x[k]$ since we are interested in the frequency spectrum of it.\n",
    "\n",
    "# DFT Definition\n",
    "\n",
    "The discrete Fourier transform pair for a discrete-time signal $x[k]$ with sample index $k$ and the corresponding DFT spectrum $X[\\mu]$ with frequency index $\\mu$ is given as \n",
    "\\begin{align}\n",
    "\\text{DFT}: X[\\mu]=&\\sum_{k=0}^{N-1}x[k]\\cdot\\mathrm{e}^{-\\mathrm{j}\\frac{2\\pi}{N}k\\mu}\\\\\n",
    "\\text{IDFT}: x[k]=\\frac{1}{N}&\\sum_{\\mu=0}^{N-1}X[\\mu]\\cdot\\mathrm{e}^{+\\mathrm{j}\\frac{2\\pi}{N}k\\mu}\n",
    "\\end{align}\n",
    "\n",
    "Note the sign reversal in the exp()-function and the $1/N$ normalization in the IDFT. This convention is used by the majority of DSP text books and also in Python's numpy.fft()/ifft() and Matlab's fft()/ifft() routines."
   ]
  },
  {
   "cell_type": "markdown",
   "metadata": {},
   "source": [
    "## DFT and IDFT with For-Loops\n",
    "\n",
    "We now going to implement the DFT and IDFT with for-loop handling. While this might be helpful to validate  algorithms in its initial development phase, please avoid using this as final code in practice: for-loops are almost always much slower processed and very often more complicated to read than appropriate set up matrices and vectors. Especially for very large $N$ computation time is very long.\n",
    "\n",
    "Anyway, the for-loop concept is: the DFT can be implemented with an outer for loop iterating over $\\mu$ and an inner for loop summing over all $k$."
   ]
  },
  {
   "cell_type": "code",
   "execution_count": null,
   "metadata": {},
   "outputs": [],
   "source": [
    "# DFT with for-loop:\n",
    "X_ = np.zeros((N,1),dtype=complex)  # make sure that vector is init with zeros\n",
    "for mu_ in range(0,N):  # do for all frequency indices\n",
    "    for k_ in range(0,N):  # do for all time indices\n",
    "        X_[mu_] += x[k_] * np.exp(-1j*2*np.pi/N*k_*mu_)"
   ]
  },
  {
   "cell_type": "markdown",
   "metadata": {},
   "source": [
    "We use variable with _ subscript here, in order to keep nice variables to the matrix notation.\n",
    "\n",
    "IDFT with outer and inner looping reads as follows."
   ]
  },
  {
   "cell_type": "code",
   "execution_count": null,
   "metadata": {},
   "outputs": [],
   "source": [
    "# IDFT with for-loop:\n",
    "x_ = np.zeros((N,1),dtype=complex)\n",
    "for k_ in range(0,N):\n",
    "    for mu_ in range(0,N):\n",
    "        x_[k_] += X_[mu_,0] * np.exp(+1j*2*np.pi/N*k_*mu_)\n",
    "x_ = 1/N*x_"
   ]
  },
  {
   "cell_type": "markdown",
   "metadata": {},
   "source": [
    "Besides exchanged variables, main differences are sign reversal in exp() and 1/N normalization. This is expected due to the DFT/IDFT equation pair given above."
   ]
  },
  {
   "cell_type": "markdown",
   "metadata": {},
   "source": [
    "## Matrix Notation\n",
    "\n",
    "Now we do better: We should think of the DFT/IDFT in terms of a matrix operation setting up a set of linear equations $\\mathbf{X} = \\mathbf{W} \\mathbf{x}$. The key concept here is that an input vector $\\mathbf{x}$ is transformed to an output vector $\\mathbf{X}$ with a chosen vector base implemented in $\\mathbf{W}$.\n",
    "\n",
    "For that we build the ($N\\times N$) matrix (element-wise)\n",
    "\\begin{equation}\n",
    "\\mathbf{W} = \\mathrm{e}^{-\\mathrm{j}\\frac{2\\pi}{N} \\mathbf{A}}\n",
    "\\end{equation}\n",
    "from the so called twiddle factor\n",
    "\\begin{equation}\n",
    "W = \\mathrm{e}^{-\\mathrm{j}\\frac{2\\pi}{N}}\n",
    "\\end{equation}\n",
    "and from matrix (this is an outer product)\n",
    "\\begin{equation}\n",
    "\\mathbf{A} = \n",
    "\\begin{bmatrix}\n",
    "0\\\\\n",
    "1\\\\\n",
    "2\\\\\n",
    "\\vdots\\\\\n",
    "N-1\n",
    "\\end{bmatrix}\n",
    "\\cdot\n",
    "\\begin{bmatrix}\n",
    "0 & 1 & 2 & \\cdots & N-1\n",
    "\\end{bmatrix}\n",
    "\\end{equation}\n",
    "containing all possible products $k\\,\\mu$ in a suitable arrangement.\n",
    "\n",
    "For the case $N=4$ these matrices look as\n",
    "\\begin{align}\n",
    "\\mathbf{A} = \\begin{bmatrix}\n",
    "0 & 0 & 0 & 0\\\\\n",
    "0 & 1 & 2 & 3\\\\\n",
    "0 & 2 & 4 & 6\\\\\n",
    "0 & 3 & 6 & 9\n",
    "\\end{bmatrix}\n",
    "\\rightarrow\n",
    "\\mathbf{W} = \\begin{bmatrix}\n",
    "1 & 1 & 1 & 1\\\\\n",
    "1 & -\\mathrm{j} & -1 & \\mathrm{j}\\\\\n",
    "1 & -1 & 1 & -1\\\\\n",
    "1 & \\mathrm{j} & -1 & -\\mathrm{j}\n",
    "\\end{bmatrix}\n",
    "\\end{align}\n"
   ]
  },
  {
   "cell_type": "code",
   "execution_count": null,
   "metadata": {},
   "outputs": [],
   "source": [
    "#k = np.arange(0, N)  # all required sample/time indices, already defined above\n",
    "mu = np.arange(0, N)  # all required DFT frequency indices\n",
    "A = np.outer(mu, k)  # get all possible entries k*mu in meaningful arrangement\n",
    "W = np.exp(-1j * 2*np.pi/N * A)  # analysis matrix for DFT"
   ]
  },
  {
   "cell_type": "markdown",
   "metadata": {},
   "source": [
    "## Plot DFT Eigensignals and -Frequencies\n",
    "\n",
    "The matrix $\\mathbf{W}$ contains the eigensignals of the DFT. These are\n",
    "\\begin{align}\n",
    "w_\\mu[k] = \\cos(\\frac{2\\pi}{N} k \\mu) - \\mathrm{j} \\sin(\\frac{2\\pi}{N} k \\mu)\n",
    "\\end{align}\n",
    "since we have setup the matrix exactly this way.\n",
    "\n",
    "In the plot below you see the eigensignal for $\\mu=1$, which fits again one period in the block length.\n",
    "For $\\mu=2$ we obtain two periods in one block.\n",
    "\n",
    "The eigensignals for $0\\leq \\mu \\leq N-1$ therefore have a certain digital frequency, the so called DFT eigenfrequencies."
   ]
  },
  {
   "cell_type": "code",
   "execution_count": null,
   "metadata": {},
   "outputs": [],
   "source": [
    "tmpmu = 1\n",
    "plt.plot(k,np.real(W[tmpmu,:]),color='C0')\n",
    "plt.plot(k,np.real(W[tmpmu,:]),'o',color='C0',label='real')\n",
    "plt.plot(k,np.imag(W[tmpmu,:]),color='C1')\n",
    "plt.plot(k,np.imag(W[tmpmu,:]),'o',color='C1',label='imag')\n",
    "plt.xlabel('sample k')\n",
    "plt.ylabel('DFT eigensignal = row of W')\n",
    "plt.legend()\n",
    "plt.grid(True)"
   ]
  },
  {
   "cell_type": "markdown",
   "metadata": {},
   "source": [
    "The nice thing about the chosen eigenfrequencies, is that the eigensignals are **orthogonal**. This choice of the vector basis is on purpose!! We might for example check this with the **complex** inner product of the matrix columns."
   ]
  },
  {
   "cell_type": "code",
   "execution_count": null,
   "metadata": {},
   "outputs": [],
   "source": [
    "np.dot(np.conj(W[:,0]),W[:,0])  # same eigensignal, same eigenfrequency\n",
    "# np.vdot(W[:,0],W[:,0])"
   ]
  },
  {
   "cell_type": "code",
   "execution_count": null,
   "metadata": {},
   "outputs": [],
   "source": [
    "np.dot(np.conj(W[:,0]),W[:,1])  # different eigensignals, different eigenfrequencies\n",
    "# np.vdot(W[:,0],W[:,1])"
   ]
  },
  {
   "cell_type": "markdown",
   "metadata": {},
   "source": [
    "## DFT of Input Signal\n",
    "\n",
    "We just need one matrix operation to perform DFT\n",
    "\n",
    "\\begin{equation}\n",
    "\\begin{bmatrix}X[\\mu=0]\\\\X[\\mu=1]\\\\X[\\mu=2]\\\\\\vdots\\\\X[\\mu=N-1]\\end{bmatrix}=\\mathbf{W}\\cdot\\begin{bmatrix}x[k=0]\\\\x[k=1]\\\\x[k=2]\\\\\\vdots\\\\x[k=N-1]\\end{bmatrix}\\rightarrow\\mathbf{X} = \\mathbf{W} \\mathbf{x}\n",
    "\\end{equation}\n"
   ]
  },
  {
   "cell_type": "code",
   "execution_count": null,
   "metadata": {},
   "outputs": [],
   "source": [
    "X = np.matmul(W,x)  # DFT, i.e. analysis"
   ]
  },
  {
   "cell_type": "markdown",
   "metadata": {},
   "source": [
    "Let us check if this result is consistent with the for-loop implementation"
   ]
  },
  {
   "cell_type": "code",
   "execution_count": null,
   "metadata": {},
   "outputs": [],
   "source": [
    "np.max(np.abs(np.real(X_[:,0]-X)))  # real part of difference"
   ]
  },
  {
   "cell_type": "code",
   "execution_count": null,
   "metadata": {},
   "outputs": [],
   "source": [
    "np.max(np.abs(np.imag(X_[:,0]-X)))  # imag part of difference"
   ]
  },
  {
   "cell_type": "markdown",
   "metadata": {},
   "source": [
    "This looks good. It is advisable also to check against the `numpy.fft` implementation:"
   ]
  },
  {
   "cell_type": "code",
   "execution_count": null,
   "metadata": {},
   "outputs": [],
   "source": [
    "np.max(np.abs(np.real(np.fft.fft(x) - X)))"
   ]
  },
  {
   "cell_type": "code",
   "execution_count": null,
   "metadata": {},
   "outputs": [],
   "source": [
    "np.max(np.abs(np.imag(np.fft.fft(x) - X)))"
   ]
  },
  {
   "cell_type": "markdown",
   "metadata": {},
   "source": [
    "Besides different quantization errors in range $10^{-15...-16}$ (which is prominent even with 64Bit double precision calculation)\n",
    "all results produce the same output."
   ]
  },
  {
   "cell_type": "markdown",
   "metadata": {},
   "source": [
    "## Plot the DFT Magnitude Spectrum\n",
    "\n",
    "Next, let us plot the magnitude of the spectrum over $\\mu$.\n",
    "\n",
    "- We should play around with the variable `tmpmu` when defining the input signal at the very beginning of the notebook. For example we can check what happens for `tmpmu = 1`, `tmpmu = 2` and run the whole notebook to visualize the actual magnitude spectra.\n",
    "\n",
    "We should recognize the link of the 'energy' at $\\mu$ in the magnitude spectrum with the chosen `tmpmu`.\n",
    "\n",
    "- We can apply any real valued `tmpmu` for creating the input signal, for example\n",
    "    - `tmpmu = N+1`, `tmpmu = N+2`\n",
    "    - `tmpmu = 1.5`\n",
    "    \n",
    "We should explain what happens in these cases. Recall periodicity and eigenfrequencies/-signals as fundamental concepts."
   ]
  },
  {
   "cell_type": "code",
   "execution_count": null,
   "metadata": {},
   "outputs": [],
   "source": [
    "plt.plot(mu,np.abs(X)/N, color='C0')\n",
    "plt.plot(mu,np.abs(X)/N,'o',color='C0')\n",
    "plt.ylim(0,12)\n",
    "plt.xlabel(r'DFT eigenfrequency $\\mu$')\n",
    "plt.ylabel(r'magnitude $\\frac{|X[\\mu]|}{N}$')\n",
    "plt.grid(True)"
   ]
  },
  {
   "cell_type": "markdown",
   "metadata": {},
   "source": [
    "# IDFT of  Spectrum\n",
    "\n",
    "The inverse operation of\n",
    "\\begin{equation}\n",
    "\\mathbf{X} = \\mathbf{W} \\mathbf{x}\n",
    "\\end{equation}\n",
    "is\n",
    "\\begin{equation}\n",
    "\\mathbf{x} = \\mathbf{W}^{-1} \\mathbf{X}\n",
    "\\end{equation}\n",
    "if the matrix inverse is existing, which holds for DFT matrix. So we could immediately use"
   ]
  },
  {
   "cell_type": "code",
   "execution_count": null,
   "metadata": {},
   "outputs": [],
   "source": [
    "xr1 = np.matmul(inv(W),X)  # IDFT, i.e. synthesis"
   ]
  },
  {
   "cell_type": "markdown",
   "metadata": {},
   "source": [
    "to perform an IDFT. However, for the complex, symmetric and square DFT matrix, things can be simplified a lot and by that we gain insights.\n",
    "For DFT matrices \n",
    "\\begin{equation}\n",
    "\\mathbf{W}^{-1} = \\frac{1}{N} \\mathbf{W}^*\n",
    "\\end{equation}\n",
    "holds, denoting conjugate-complex operation by $(\\cdot)^*$.\n",
    "If we compare with the DFT/IDFT pair\n",
    "\\begin{align}\n",
    "\\text{DFT}: X[\\mu]=&\\sum_{k=0}^{N-1}x[k]\\cdot\\mathrm{e}^{-\\mathrm{j}\\frac{2\\pi}{N}k\\mu}\\\\\n",
    "\\text{IDFT}: x[k]=\\frac{1}{N}&\\sum_{\\mu=0}^{N-1}X[\\mu]\\cdot\\mathrm{e}^{+\\mathrm{j}\\frac{2\\pi}{N}k\\mu}\n",
    "\\end{align}\n",
    "we see the strong links.\n",
    "\n",
    "So, the IDFT can be obtained by the set of linear equations\n",
    "\\begin{equation}\n",
    "\\mathbf{x} = \\frac{1}{N}\\mathbf{W}^{*} \\mathbf{X}\n",
    "\\end{equation}"
   ]
  },
  {
   "cell_type": "code",
   "execution_count": null,
   "metadata": {},
   "outputs": [],
   "source": [
    "xr2 = np.matmul(1/N*np.conj(W),X) # IDFT, i.e. synthesis"
   ]
  },
  {
   "cell_type": "markdown",
   "metadata": {},
   "source": [
    "Again, checking for proper implementation"
   ]
  },
  {
   "cell_type": "code",
   "execution_count": null,
   "metadata": {},
   "outputs": [],
   "source": [
    "np.max(np.abs(np.real(x-xr2)))"
   ]
  },
  {
   "cell_type": "code",
   "execution_count": null,
   "metadata": {},
   "outputs": [],
   "source": [
    "np.max(np.abs(np.imag(x-xr2)))"
   ]
  },
  {
   "cell_type": "code",
   "execution_count": null,
   "metadata": {},
   "outputs": [],
   "source": [
    "np.max(np.abs(np.real(np.fft.ifft(X)-xr2)))"
   ]
  },
  {
   "cell_type": "code",
   "execution_count": null,
   "metadata": {},
   "outputs": [],
   "source": [
    "np.max(np.abs(np.imag(np.fft.ifft(X)-xr2)))"
   ]
  },
  {
   "cell_type": "markdown",
   "metadata": {},
   "source": [
    "Analysis and subsequent synthesis must yield the input signal again, as\n",
    "\\begin{equation}\n",
    "\\mathbf{x} = \\mathbf{W}^{-1} (\\mathbf{W} \\mathbf{x}) = (\\mathbf{W}^{-1} \\mathbf{W}) \\mathbf{x}\n",
    "\\end{equation}\n",
    "due to $\\mathbf{W}^{-1} \\mathbf{W} = \\mathbf{I}$.\n",
    "\n",
    "For the DFT matrix this can be restated to\n",
    "\\begin{equation}\n",
    "\\mathbf{x} = \\frac{1}{N}\\mathbf{W}^{*} (\\mathbf{W} \\mathbf{x}) = (\\frac{1}{N}\\mathbf{W}^{*} \\mathbf{W}) \\mathbf{x}\n",
    "\\end{equation}\n",
    "due to $\\frac{1}{N}\\mathbf{W}^{*} \\mathbf{W} = \\mathbf{I}$.\n",
    "\n",
    "If we move the $1/N$ term to another normalizing scheme, such as defining $(\\mathbf{W}^{*}/\\sqrt{N})$ and $(\\mathbf{W}/\\sqrt{N})$.\n",
    "Both matrices are so called unitary matrices, a beautiful special case of orthonormal, complex, square, symmetric matrices where the inverse is equal to the conjugate-complex and $(\\mathbf{W}^{*}/\\sqrt{N}) (\\mathbf{W}/\\sqrt{N})= \\mathbf{I}$ holds.\n",
    "\n",
    "As said above, it's all about using the most appropriate vector base for solving a problem."
   ]
  },
  {
   "cell_type": "markdown",
   "metadata": {},
   "source": [
    "**Copyright**\n",
    "\n",
    "The notebooks are provided as [Open Educational Resources](https://en.wikipedia.org/wiki/Open_educational_resources). Feel free to use the notebooks for your own purposes. The text is licensed under [Creative Commons Attribution 4.0](https://creativecommons.org/licenses/by/4.0/), the code of the IPython examples under the [MIT license](https://opensource.org/licenses/MIT). Please attribute the work as follows: *Frank Schultz, Digital Signal Processing - A Tutorial Featuring Computational Examples* with the URL https://github.com/spatialaudio/digital-signal-processing-exercises"
   ]
  }
 ],
 "metadata": {
  "kernelspec": {
   "display_name": "Python 3",
   "language": "python",
   "name": "python3"
  },
  "language_info": {
   "codemirror_mode": {
    "name": "ipython",
    "version": 3
   },
   "file_extension": ".py",
   "mimetype": "text/x-python",
   "name": "python",
   "nbconvert_exporter": "python",
   "pygments_lexer": "ipython3",
   "version": "3.7.2"
  }
 },
 "nbformat": 4,
 "nbformat_minor": 2
}
