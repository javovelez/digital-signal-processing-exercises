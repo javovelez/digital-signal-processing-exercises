{
 "cells": [
  {
   "cell_type": "markdown",
   "metadata": {},
   "source": [
    "Sascha Spors,\n",
    "Professorship Signal Theory and Digital Signal Processing,\n",
    "Institute of Communications Engineering (INT),\n",
    "Faculty of Computer Science and Electrical Engineering (IEF),\n",
    "University of Rostock, Germany\n",
    "\n",
    "Digital Signal Processing (Course #24505),\n",
    "**Intro**,\n",
    "Winter Semester 2019/20\n",
    "\n",
    "Feel free to contact lecturer frank.schultz@uni-rostock.de\n",
    "\n",
    "- lecture: https://github.com/spatialaudio/digital-signal-processing-lecture\n",
    "- tutorial: https://github.com/spatialaudio/digital-signal-processing-exercises\n",
    "\n",
    "WIP..."
   ]
  },
  {
   "cell_type": "markdown",
   "metadata": {},
   "source": [
    "# Literature \n",
    "\n",
    "There are some classic and often cited textbooks on DSP. I regularly have a look in one of these, sorted to my current personal preference: \n",
    "\n",
    "- A.V. Oppenheim, R.W. Schafer (2010): \"Discrete-Time Signal Processing.\", Pearson, Upper Saddle River, 3rd ed. Also in German.\n",
    "\n",
    "- L.R. Rabiner, B. Gold (1978): \"Theory And Application Of Digital Signal Processing.\", Pearson.\n",
    "\n",
    "- E.C. Ifeachor, B. W. Jervis (2002): \"Digital Signal Processing.\", Prentice Hall, Harlow, 2nd ed.\n",
    "\n",
    "- B. Girod, R. Rabenstein, A. Stenger (2001): \"Signals and Systems.\" Wiley, Chichester. Also a 4th ed. in German.\n",
    "\n",
    "- R.G. Lyons (2011): \"Understanding Digital Signal Processing.\", Prentice Hall, Upper Saddle River, 3rd ed.\n",
    "\n",
    "- S.D. Stearns, D.R. Hush (1990): \"Digital Signal Analysis.\", Prentice Hall. Also in German.\n",
    "\n",
    "- J.G. Proakis, D.G. Manolakis (1996): \"Digital Signal Processing.\", Prentice Hall, London, 3rd ed.\n",
    "\n",
    "- Y. Stein (2000): \"Digital Signal Processing.\", Wiley, New York.\n",
    "\n",
    "- Sophocles J. Orfanidis (2010): \"Introduction to Signal Processing.\", Pearson.\n",
    "\n",
    "- L.R. Rabiner, R.W. Schafer (1978): \"Digital Processing of Speech Signals.\", Prentice Hall, Englewood Cliffs.\n",
    "\n",
    "\n",
    "The books by Rabiner and Oppenheim could be considered as the starting point of DSP related monographs, at least in the so called western world. It is definitely worth to check them out. The didactical approach of Lyons might be worth to look at, since the concepts are explained very extensively.\n",
    "\n",
    "Since affiliated with a German university, I give some hints on German textbooks as well for our students.\n",
    "Besides direct translations of English books, there exist several brilliant German textbooks as well. I regularly have a look into the books of\n",
    "\n",
    "- Norbert Fliege\n",
    "- Karl-Dirk Kammeyer\n",
    "- Hans Wilhelm Schüßler\n",
    "- Bernd Girod\n",
    "- Udo Zölzer\n",
    "- Franz-Heinrich Lange\n",
    "- Gerhard Wunsch\n",
    "- Klaus Göldner\n",
    "\n",
    "to name a few signal processing professors. If one looks for easier entry and/or less theoretical approaches, the books of\n",
    "\n",
    "- Daniel Ch. von Grünigen\n",
    "- Martin Werner\n",
    "- Martin Meyer\n",
    "- Ottmar Beucher\n",
    "\n",
    "could be considered.\n",
    "\n",
    "Besides that, there exist tons of other literature as books and in the web.\n",
    "Use whatever suits best to you, but don't forget to double check and validate the found information.\n",
    "That is usually the point where I fall back to early monographs, since they are amazingly sparse of errors and cover a lot of stuff already."
   ]
  },
  {
   "cell_type": "markdown",
   "metadata": {},
   "source": [
    "# **Copyright**\n",
    "\n",
    "The notebooks are provided as [Open Educational Resources](https://en.wikipedia.org/wiki/Open_educational_resources). Feel free to use the notebooks for your own purposes. The text is licensed under [Creative Commons Attribution 4.0](https://creativecommons.org/licenses/by/4.0/), the code of the IPython examples under the [MIT license](https://opensource.org/licenses/MIT). Please attribute the work as follows: *Frank Schultz, Digital Signal Processing - A Tutorial Featuring Computational Examples* with the URL https://github.com/spatialaudio/digital-signal-processing-exercises"
   ]
  },
  {
   "cell_type": "code",
   "execution_count": null,
   "metadata": {},
   "outputs": [],
   "source": []
  }
 ],
 "metadata": {
  "kernelspec": {
   "display_name": "Python 3",
   "language": "python",
   "name": "python3"
  },
  "language_info": {
   "codemirror_mode": {
    "name": "ipython",
    "version": 3
   },
   "file_extension": ".py",
   "mimetype": "text/x-python",
   "name": "python",
   "nbconvert_exporter": "python",
   "pygments_lexer": "ipython3",
   "version": "3.7.5"
  }
 },
 "nbformat": 4,
 "nbformat_minor": 2
}
