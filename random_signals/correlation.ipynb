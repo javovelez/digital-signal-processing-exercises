{
 "cells": [
  {
   "cell_type": "markdown",
   "metadata": {},
   "source": [
    "Sascha Spors,\n",
    "Professorship Signal Theory and Digital Signal Processing,\n",
    "Institute of Communications Engineering (INT),\n",
    "Faculty of Computer Science and Electrical Engineering (IEF),\n",
    "University of Rostock, Germany\n",
    "\n",
    "Digital Signal Processing (Course #24505),\n",
    "**Correlation**,\n",
    "Winter Semester 2019/20\n",
    "\n",
    "Feel free to contact lecturer frank.schultz@uni-rostock.de\n",
    "\n",
    "- lecture: https://github.com/spatialaudio/digital-signal-processing-lecture\n",
    "- tutorial: https://github.com/spatialaudio/digital-signal-processing-exercises\n",
    "\n",
    "WIP..."
   ]
  },
  {
   "cell_type": "code",
   "execution_count": null,
   "metadata": {},
   "outputs": [],
   "source": [
    "# most common used packages for DSP, have a look into other scipy submodules\n",
    "import numpy as np\n",
    "import matplotlib as mpl\n",
    "import matplotlib.pyplot as plt\n",
    "from scipy import signal\n",
    "#from scipy import fftpack\n",
    "#from scipy import stats\n",
    "\n",
    "\n",
    "def my_xcorr2(x, y, scaleopt='none'):\n",
    "    N = len(x)\n",
    "    M = len(y)\n",
    "    kappa = np.arange(0, N+M-1) - (M-1)\n",
    "    ccf = signal.correlate(x, y, mode='full', method='auto')\n",
    "    if N == M:\n",
    "        if scaleopt == 'none' or scaleopt == 'raw':\n",
    "            ccf /= 1\n",
    "        elif scaleopt == 'biased' or scaleopt == 'bias':\n",
    "            ccf /= N\n",
    "        elif scaleopt == 'unbiased' or scaleopt == 'unbias':\n",
    "            ccf /= (N - np.abs(kappa))\n",
    "        elif scaleopt == 'coeff' or scaleopt == 'normalized':\n",
    "            ccf /= np.sqrt(np.sum(x**2) * np.sum(y**2))\n",
    "        else:\n",
    "            print('scaleopt unknown: we leave output unnormalized')\n",
    "    return kappa, ccf"
   ]
  },
  {
   "cell_type": "code",
   "execution_count": null,
   "metadata": {
    "scrolled": false
   },
   "outputs": [],
   "source": [
    "if False:  # test my_xcorr\n",
    "    plt.figure(figsize=(4, 2))\n",
    "    x = np.array([0, 1, 0, 0, 0])\n",
    "    y = np.array([1, 0, 0])\n",
    "    kappa, ccf = my_xcorr2(x, y)\n",
    "    plt.stem(kappa, ccf, basefmt='C0:')\n",
    "    plt.xlabel(r'$\\kappa$')\n",
    "    plt.ylabel(r'$\\phi_{xy}[\\kappa]$')\n",
    "    plt.title('cross correlation CCF(x,y)')\n",
    "    plt.grid(True)"
   ]
  },
  {
   "cell_type": "code",
   "execution_count": null,
   "metadata": {
    "run_control": {
     "marked": false
    }
   },
   "outputs": [],
   "source": [
    "Nt = 200\n",
    "x = np.cos(2*np.pi/Nt * 1 * np.arange(0, Nt)) * 2\n",
    "y = np.sin(2*np.pi/Nt * 1 * np.arange(0, Nt)) * 2\n",
    "\n",
    "#Nt = 20000\n",
    "#loc, scale = 2, np.sqrt(2)  # mu, sigma\n",
    "#x = scale * np.random.randn(Nt) + loc\n",
    "#y = np.roll(x,-5000)\n",
    "\n",
    "plt.figure(figsize=(8,6))\n",
    "plt.subplot(2,2,1)\n",
    "kappa, ccf = my_xcorr2(x, y, scaleopt='none')\n",
    "plt.plot(kappa, ccf)\n",
    "#plt.xlabel(r'$\\kappa$')\n",
    "plt.ylabel(r'$\\phi_{xy}[\\kappa]$')\n",
    "plt.title('raw CCF(x,y)')\n",
    "plt.grid(True)\n",
    "\n",
    "plt.subplot(2,2,2)\n",
    "kappa, ccf = my_xcorr2(x, y, scaleopt='biased')\n",
    "plt.plot(kappa, ccf)\n",
    "#plt.xlabel(r'$\\kappa$')\n",
    "#plt.ylabel(r'$\\phi_{xy}[\\kappa]$')\n",
    "plt.title('biased CCF(x,y)')\n",
    "plt.grid(True)\n",
    "\n",
    "plt.subplot(2,2,3)\n",
    "kappa, ccf = my_xcorr2(x, y, scaleopt='unbiased')\n",
    "plt.plot(kappa, ccf)\n",
    "plt.xlabel(r'$\\kappa$')\n",
    "plt.ylabel(r'$\\phi_{xy}[\\kappa]$')\n",
    "plt.title('unbiased CCF(x,y)')\n",
    "plt.grid(True)\n",
    "\n",
    "plt.subplot(2,2,4)\n",
    "kappa, ccf = my_xcorr2(x, y, scaleopt='coeff')\n",
    "plt.plot(kappa, ccf)\n",
    "plt.xlabel(r'$\\kappa$')\n",
    "#plt.ylabel(r'$\\phi_{xy}[\\kappa]$')\n",
    "plt.title('normalized CCF(x,y)')\n",
    "plt.grid(True)"
   ]
  },
  {
   "cell_type": "markdown",
   "metadata": {},
   "source": [
    "# **Copyright**\n",
    "\n",
    "The notebooks are provided as [Open Educational Resources](https://en.wikipedia.org/wiki/Open_educational_resources). Feel free to use the notebooks for your own purposes. The text is licensed under [Creative Commons Attribution 4.0](https://creativecommons.org/licenses/by/4.0/), the code of the IPython examples under the [MIT license](https://opensource.org/licenses/MIT). Please attribute the work as follows: *Frank Schultz, Digital Signal Processing - A Tutorial Featuring Computational Examples* with the URL https://github.com/spatialaudio/digital-signal-processing-exercises"
   ]
  },
  {
   "cell_type": "code",
   "execution_count": null,
   "metadata": {},
   "outputs": [],
   "source": []
  }
 ],
 "metadata": {
  "kernelspec": {
   "display_name": "Python 3",
   "language": "python",
   "name": "python3"
  },
  "language_info": {
   "codemirror_mode": {
    "name": "ipython",
    "version": 3
   },
   "file_extension": ".py",
   "mimetype": "text/x-python",
   "name": "python",
   "nbconvert_exporter": "python",
   "pygments_lexer": "ipython3",
   "version": "3.7.2"
  }
 },
 "nbformat": 4,
 "nbformat_minor": 2
}
