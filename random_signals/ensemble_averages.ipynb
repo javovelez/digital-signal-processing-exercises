{
 "cells": [
  {
   "cell_type": "markdown",
   "metadata": {},
   "source": [
    "Sascha Spors,\n",
    "Professorship Signal Theory and Digital Signal Processing,\n",
    "Institute of Communications Engineering (INT),\n",
    "Faculty of Computer Science and Electrical Engineering (IEF),\n",
    "University of Rostock, Germany\n",
    "\n",
    "Digital Signal Processing (Course #24505),\n",
    "**Random Signals and Ensemble Averages**,\n",
    "Winter Semester 2019/20\n",
    "\n",
    "Feel free to contact lecturer frank.schultz@uni-rostock.de\n",
    "\n",
    "- lecture: https://github.com/spatialaudio/digital-signal-processing-lecture\n",
    "- tutorial: https://github.com/spatialaudio/digital-signal-processing-exercises\n",
    "\n",
    "WIP..."
   ]
  },
  {
   "cell_type": "code",
   "execution_count": null,
   "metadata": {},
   "outputs": [],
   "source": [
    "# most common used packages for DSP, have a look into other scipy submodules\n",
    "import numpy as np\n",
    "import matplotlib as mpl\n",
    "import matplotlib.pyplot as plt\n",
    "from scipy import signal\n",
    "from scipy import fftpack"
   ]
  },
  {
   "cell_type": "markdown",
   "metadata": {},
   "source": [
    "# Ensemble Averages / Moments\n",
    "\n",
    "For a given time instant $k$\n",
    "\n",
    "#### Linear mean / 1st raw moment\n",
    "\n",
    "\\begin{equation}\n",
    "\\begin{split}\n",
    "\\mu_x[k] = E\\{ x[k] \\} = \\int\\limits_{-\\infty}^{\\infty} \\theta \\, p_x(\\theta, k) \\, \\mathrm{d}\\theta\\\\\n",
    "\\mu_x[k] = E\\{ x[k] \\} = \\lim_{N \\to \\infty} \\frac{1}{N} \\sum_{n=0}^{N-1} x_n[k]\n",
    "\\end{split}\n",
    "\\end{equation}\n",
    "\n",
    "#### Quadratic mean / 2nd raw moment\n",
    "\n",
    "\\begin{equation}\n",
    "\\begin{split}\n",
    "E\\{ x^2[k] \\} = \\int\\limits_{-\\infty}^{\\infty} \\theta^2 \\, p_x(\\theta, k) \\, \\mathrm{d}\\theta\\\\\n",
    "E\\{ x^2[k] \\} = \\lim_{N \\to \\infty} \\frac{1}{N} \\sum_{n=0}^{N-1} x_n^2[k]\n",
    "\\end{split}\n",
    "\\end{equation}\n",
    "\n",
    "#### Variance / 2nd centralized moment\n",
    "\n",
    "\\begin{equation}\n",
    "\\begin{split}\n",
    "E\\{ (x[k] - \\mu_x[k])^2 \\} = \\int\\limits_{-\\infty}^{\\infty} (\\theta - \\mu_x[k])^2 \\, p_x(\\theta, k) \\, \\mathrm{d}\\theta\\\\\n",
    "E\\{ (x[k] - \\mu_x[k])^2 \\} = \\lim_{N \\to \\infty} \\frac{1}{N} \\sum_{n=0}^{N-1} (x_n[k] - \\mu_x[k])^2\n",
    "\\end{split}\n",
    "\\end{equation}\n",
    "\n",
    "\n"
   ]
  },
  {
   "cell_type": "code",
   "execution_count": null,
   "metadata": {},
   "outputs": [],
   "source": [
    "# create random process based on normal distribution\n",
    "Ns = 3000  # number of sample function\n",
    "Nt = 2*Ns # number of time steps per sample function\n",
    "np.random.seed(1)\n",
    "loc=np.sqrt(2)\n",
    "scale=np.sqrt(2)\n",
    "x = np.random.normal(loc=loc, scale=scale, size=[Ns,Nt])\n",
    "\n",
    "plt.figure(figsize=(10,12))\n",
    "plt.subplot(3,1,1)\n",
    "plt.plot(np.mean(x**1,axis=0),label=r'along sample functions for fixed $k$')\n",
    "plt.plot(np.mean(x**1,axis=-1),label='temporal average for fixed sample function')\n",
    "plt.legend()\n",
    "plt.title(r'linear mean $E\\{x\\} = \\mu$ of random process')\n",
    "\n",
    "plt.subplot(3,1,2)\n",
    "plt.plot(np.var(x,axis=0))\n",
    "plt.plot(np.var(x,axis=-1))\n",
    "plt.title('variance  $E\\{(x -E\\{x\\} )^2\\} = \\sigma^2$ of random process')\n",
    "\n",
    "plt.subplot(3,1,3)\n",
    "plt.plot(np.mean(x**2,axis=0))\n",
    "plt.plot(np.mean(x**2,axis=-1))\n",
    "plt.title('quadratic mean $E\\{x^2\\} = \\mu^2+\\sigma^2$  of random process');"
   ]
  },
  {
   "cell_type": "code",
   "execution_count": null,
   "metadata": {},
   "outputs": [],
   "source": [
    "pdf, edges = np.histogram(x[:, 0], bins='auto', density=True)\n",
    "\n",
    "plt.plot(edges[:-1], pdf,'o-')\n",
    "plt.xlabel(r'$\\theta$')\n",
    "plt.ylabel(r'$\\hat{p}_x(\\theta,k=0)$')\n",
    "plt.title('normalized histogram = very simple PDF estimate')\n",
    "plt.grid(True)\n",
    "\n",
    "theta = edges[:-1]\n",
    "dtheta = np.diff(edges)\n",
    "mu = np.sum(theta**1 * pdf * dtheta)\n",
    "sig2 =  np.sum((theta-mu)**2 * pdf * dtheta)\n",
    "qm = np.sum(theta**2 * pdf * dtheta)\n",
    "print('intended:', loc, loc**2, scale**2, loc**2+scale**2)\n",
    "print('numeric:', mu, mu**2, sig2, qm)"
   ]
  },
  {
   "cell_type": "code",
   "execution_count": null,
   "metadata": {},
   "outputs": [],
   "source": [
    "# create two random processes based on normal distribution\n",
    "Ns = 5000  # number of sample functions at certain time instant k \n",
    "np.random.seed(1)\n",
    "# 1st process\n",
    "loc = 1\n",
    "scale = 2\n",
    "x = np.random.normal(loc=loc, scale=scale, size=[Ns,1])\n",
    "# 2nd process\n",
    "np.random.seed(1)\n",
    "loc = 3\n",
    "scale = 4\n",
    "y = np.random.normal(loc=loc, scale=scale, size=[Ns,1])\n",
    "\n",
    "Kreuzwirklst = np.mean((x)**1 * (y)**1)\n",
    "COVxy = np.mean((x - np.mean(x))**1 * (y - np.mean(y))**1)\n",
    "rho = np.mean(((x - np.mean(x))/np.std(x))**1 * ((y - np.mean(y))/np.std(y))**1)\n",
    "print(Kreuzwirklst)\n",
    "print(COVxy)\n",
    "print(rho)"
   ]
  },
  {
   "cell_type": "markdown",
   "metadata": {},
   "source": [
    "**Copyright**\n",
    "\n",
    "The notebooks are provided as [Open Educational Resources](https://en.wikipedia.org/wiki/Open_educational_resources). Feel free to use the notebooks for your own purposes. The text is licensed under [Creative Commons Attribution 4.0](https://creativecommons.org/licenses/by/4.0/), the code of the IPython examples under the [MIT license](https://opensource.org/licenses/MIT). Please attribute the work as follows: *Frank Schultz, Digital Signal Processing - A Tutorial Featuring Computational Examples* with the URL https://github.com/spatialaudio/digital-signal-processing-exercises"
   ]
  },
  {
   "cell_type": "code",
   "execution_count": null,
   "metadata": {},
   "outputs": [],
   "source": []
  }
 ],
 "metadata": {
  "kernelspec": {
   "display_name": "Python 3",
   "language": "python",
   "name": "python3"
  },
  "language_info": {
   "codemirror_mode": {
    "name": "ipython",
    "version": 3
   },
   "file_extension": ".py",
   "mimetype": "text/x-python",
   "name": "python",
   "nbconvert_exporter": "python",
   "pygments_lexer": "ipython3",
   "version": "3.7.2"
  }
 },
 "nbformat": 4,
 "nbformat_minor": 2
}
