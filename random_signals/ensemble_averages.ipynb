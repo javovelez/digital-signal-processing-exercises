{
 "cells": [
  {
   "cell_type": "markdown",
   "metadata": {},
   "source": [
    "Sascha Spors,\n",
    "Professorship Signal Theory and Digital Signal Processing,\n",
    "Institute of Communications Engineering (INT),\n",
    "Faculty of Computer Science and Electrical Engineering (IEF),\n",
    "University of Rostock, Germany\n",
    "\n",
    "Digital Signal Processing (Course #24505),\n",
    "**Random Signals, Ensemble & Temporal Averages**,\n",
    "Winter Semester 2019/20\n",
    "\n",
    "Feel free to contact lecturer frank.schultz@uni-rostock.de\n",
    "\n",
    "- lecture: https://github.com/spatialaudio/digital-signal-processing-lecture\n",
    "- tutorial: https://github.com/spatialaudio/digital-signal-processing-exercises\n",
    "\n",
    "WIP..."
   ]
  },
  {
   "cell_type": "code",
   "execution_count": null,
   "metadata": {},
   "outputs": [],
   "source": [
    "# most common used packages for DSP, have a look into other scipy submodules\n",
    "import numpy as np\n",
    "import matplotlib as mpl\n",
    "import matplotlib.pyplot as plt\n",
    "from scipy import signal\n",
    "#from scipy import fftpack\n",
    "from scipy import stats\n",
    "\n",
    "\n",
    "def my_xcorr(x, y):\n",
    "    N = len(x)\n",
    "    M = len(y)\n",
    "    kappa = np.arange(0, N+M-1) - (M-1)\n",
    "    #ccf = np.correlate(x, y, mode='full')\n",
    "    ccf = signal.correlate(x, y, mode='full', method='auto')\n",
    "    return kappa, ccf"
   ]
  },
  {
   "cell_type": "code",
   "execution_count": null,
   "metadata": {
    "scrolled": false
   },
   "outputs": [],
   "source": [
    "if False:  # test my_xcorr\n",
    "    plt.figure(figsize=(4, 2))\n",
    "    x = np.array([0, 1, 0, 0, 0])\n",
    "    y = np.array([1, 0, 0])\n",
    "    kappa, ccf = my_xcorr(x, y)\n",
    "    plt.stem(kappa, ccf, basefmt='C0:')\n",
    "    plt.xlabel(r'$\\kappa$')\n",
    "    plt.ylabel(r'$\\phi_{xy}[\\kappa]$')\n",
    "    plt.title('cross correlation CCF(x,y)')\n",
    "    plt.grid(True)"
   ]
  },
  {
   "cell_type": "markdown",
   "metadata": {},
   "source": [
    "# First-Order Ensemble Averages\n",
    "\n",
    "For a probability density function (PDF) $p_x(\\theta, k)$ that describes a random process of 'drawing' signal amplitudes $\\theta$ for $n$-th sample function $x_n[k]$ over time $k$, we can define the following **expectation**\n",
    "\n",
    "\\begin{equation}\n",
    "\\begin{split}\n",
    "E\\{ f(x[k]) \\} = \\int\\limits_{-\\infty}^{\\infty} f(\\theta) \\, p_x(\\theta, k) \\, \\mathrm{d}\\theta\\\\\n",
    "E\\{ f(x[k]) \\} = \\lim_{N \\to \\infty} \\frac{1}{N} \\sum_{n=0}^{N-1} f(x_n[k])\n",
    "\\end{split}\n",
    "\\end{equation}\n",
    "\n",
    "using the operator or **mapping function** $f(\\cdot)$.\n",
    "\n",
    "Most important are the following **first-order** ensemble averages, also called **univariate** moments, named since **one** random process is involved.\n",
    "\n",
    "#### Linear mean / 1st raw moment\n",
    "\n",
    "for $f(\\theta)=\\theta^1$\n",
    "\n",
    "\\begin{equation}\n",
    "\\begin{split}\n",
    "\\mu_x[k] = E\\{ x[k] \\} = \\int\\limits_{-\\infty}^{\\infty} \\theta \\, p_x(\\theta, k) \\, \\mathrm{d}\\theta\\\\\n",
    "\\mu_x[k] = E\\{ x[k] \\} = \\lim_{N \\to \\infty} \\frac{1}{N} \\sum_{n=0}^{N-1} x_n[k]\n",
    "\\end{split}\n",
    "\\end{equation}\n",
    "\n",
    "#### Quadratic mean / 2nd raw moment\n",
    "\n",
    "for $f(\\theta)=\\theta^2$\n",
    "\n",
    "\\begin{equation}\n",
    "\\begin{split}\n",
    "E\\{ x^2[k] \\} = \\int\\limits_{-\\infty}^{\\infty} \\theta^2 \\, p_x(\\theta, k) \\, \\mathrm{d}\\theta\\\\\n",
    "E\\{ x^2[k] \\} = \\lim_{N \\to \\infty} \\frac{1}{N} \\sum_{n=0}^{N-1} x_n^2[k]\n",
    "\\end{split}\n",
    "\\end{equation}\n",
    "\n",
    "#### Variance / 2nd centralized moment\n",
    "\n",
    "for $f(\\theta) = (\\theta - \\mu_x[k])^2$\n",
    "\n",
    "\\begin{equation}\n",
    "\\begin{split}\n",
    "\\sigma_x^2[k] = E\\{ (x[k] - \\mu_x[k])^2 \\} = \\int\\limits_{-\\infty}^{\\infty} (\\theta - \\mu_x[k])^2 \\, p_x(\\theta, k) \\, \\mathrm{d}\\theta\\\\\n",
    "\\sigma_x^2[k] = E\\{ (x[k] - \\mu_x[k])^2 \\} = \\lim_{N \\to \\infty} \\frac{1}{N} \\sum_{n=0}^{N-1} (x_n[k] - \\mu_x[k])^2\n",
    "\\end{split}\n",
    "\\end{equation}\n",
    "\n",
    "These three moments are generally linked as\n",
    "\\begin{equation}\n",
    "E\\{ x^2[k] \\} = \\mu_x^2[k] + \\sigma_x^2[k].\n",
    "\\end{equation}\n",
    "\n",
    "For **stationary processes** these ensemble averages are not longer time-dependent, but rather $\\mu_x[k] = \\mu_x = \\mathrm{const}$, etc. holds.\n",
    "This implies that the PDF is not changing over time."
   ]
  },
  {
   "cell_type": "markdown",
   "metadata": {},
   "source": [
    "# Second-Order Ensemble Averages\n",
    "\n",
    "The **second-order** ensemble averages, also called **bivariate** moments (**two** random processes are involved) can be derived from\n",
    "\n",
    "\\begin{equation}\n",
    "E\\{ f(x[k_x], y[k_y]) \\} = \\iint\\limits_{-\\infty}^{\\infty} f(\\theta_x, \\theta_y) \\, p_{xy}(\\theta_x, \\theta_y, k_x, k_y) \\, \\mathrm{d}\\theta_x\\, \\mathrm{d}\\theta_y\n",
    "\\end{equation}\n",
    "\n",
    "\\begin{equation}\n",
    "E\\{ f(x[k_x], y[k_y]) \\} = \\lim_{N \\to \\infty} \\frac{1}{N} \\sum_{n=0}^{N-1} f(x_n[k_x], y_n[k_y])\n",
    "\\end{equation}\n",
    "\n",
    "using appropriate **mapping functions** $f(\\cdot)$.\n",
    "\n",
    "For **stationary processes** only the difference $\\kappa = k_x - k_y$ is relevant as bivariate PDF\n",
    "\\begin{equation}\n",
    "p_{xy}(\\theta_x, \\theta_y, k_x, k_y) = p_{xy}(\\theta_x, \\theta_y, \\kappa).\n",
    "\\end{equation}\n",
    "\n",
    "For **stationary processes** two important cases lead to fundamental tools for random signal processing:\n",
    "\n",
    "1. $\\kappa = 0$, i.e. $k = k_x = k_y$\n",
    "2. $\\kappa \\neq 0$"
   ]
  },
  {
   "cell_type": "markdown",
   "metadata": {},
   "source": [
    "## Case 1\n",
    "\n",
    "The general linear mappings\n",
    "\n",
    "\\begin{equation}\n",
    "\\begin{split}\n",
    "\\text{for raw (1,1)-bivariate moment:} \\qquad & f(\\theta_x, \\theta_y)=\\theta_x^1 \\cdot \\theta_y^1,\\\\\n",
    "\\text{for centralized (1,1)-bivariate moment:} \\qquad & f(\\theta_x, \\theta_y) = (\\theta_x - \\mu_x[k_x])^1 \\cdot (\\theta_y - \\mu_y[k_y])^1\\\\\n",
    "\\text{for standardized (1,1)-bivariate moment:} \\qquad & f(\\theta_x, \\theta_y) = \\left(\\frac{\\theta_x - \\mu_x[k_x]}{\\sigma_x[k_x]}\\right)^1 \\cdot \\left(\\frac{\\theta_y - \\mu_y[k_y]}{\\sigma_y[k_y]}\\right)^1.\n",
    "\\end{split}\n",
    "\\end{equation}\n",
    "\n",
    "simplify under the assumption of stationary processes and considering $\\kappa=0$, i.e. $k = k_x = k_y$.\n",
    "The resulting expectations $E\\{\\cdot\\}$ are\n",
    "\n",
    "- the raw (1,1)-bivariate moment, known as cross-power $\\mathrm{P}_{xy}$\n",
    "- the centralized (1,1)-bivariate moment, known as co-variance $\\sigma_{xy}$\n",
    "- the standardized (1,1)-bivariate moment, known as correlation coefficient $\\rho_{xy}$"
   ]
  },
  {
   "cell_type": "markdown",
   "metadata": {},
   "source": [
    "## Case 2\n",
    "\n",
    "For $\\kappa = k_x - k_y \\neq 0$ the raw and centralized moments are of special importance:\n",
    "\n",
    "\\begin{equation}\n",
    "\\begin{split}\n",
    "\\mathrm{raw:}\\qquad&\\varphi_{xy}[k_x, k_y] = \\varphi_{xy}[\\kappa] = E\\{ x[k] \\cdot y[k-\\kappa]\\} = E\\{ x[k+\\kappa] \\cdot y[k]\\}\\\\\n",
    "\\mathrm{centralized:}\\qquad&\\psi_{xy}[\\kappa] = \\varphi_{xy}[\\kappa] - \\mu_x \\mu_y\n",
    "\\end{split}\n",
    "\\end{equation}\n",
    "\n",
    "The raw moment is known as **cross-correlation** function $\\varphi_{xy}[\\kappa]$, the centralized moment is known as **cross-covariance** function $\\psi_{xy}[\\kappa]$.\n",
    "\n",
    "If for the second process $y$ the process $x$ is considered as\n",
    "\n",
    "\\begin{equation}\n",
    "\\begin{split}\n",
    "\\mathrm{raw:}\\qquad&\\varphi_{xx}[\\kappa] = E\\{ x[k] \\cdot x[k-\\kappa]\\} = E\\{ x[k+\\kappa] \\cdot x[k]\\}\\\\\n",
    "\\mathrm{centralized:}\\qquad&\\psi_{xx}[\\kappa] = \\varphi_{xx}[\\kappa] - \\mu^2_x\n",
    "\\end{split}\n",
    "\\end{equation}\n",
    "the so called **auto-correlation** function $\\varphi_{xx}[\\kappa]$ and **auto-covariance** function $\\psi_{xx}[\\kappa]$ are obtained.\n",
    "\n",
    "The auto- and cross-correlation functions are of fundamental importance for random signal processing, as these are linked to LTI systems."
   ]
  },
  {
   "cell_type": "markdown",
   "metadata": {},
   "source": [
    "# Ergodic Processes\n",
    "\n",
    "Averaging over time is equal to ensemble averages:\n",
    "\n",
    "\\begin{equation}\n",
    "\\overline{ f(x_n[k], x_n[k-\\kappa_1], x_n[k-\\kappa_2], \\dots) } = E\\{  f(x[k], x[k-\\kappa_1], x[k-\\kappa_2], \\dots)  \\} \\;\\; \\forall n.\n",
    "\\end{equation}\n",
    "\n",
    "## Wide-Sense Ergodic\n",
    "\n",
    "\\begin{equation}\n",
    "\\overline{ x_n[k] \\cdot x_n[k-\\kappa] } = E\\{  x[k] \\cdot x[k-\\kappa]  \\} \\;\\; \\forall n\n",
    "\\end{equation}\n",
    "\n",
    "\\begin{equation}\n",
    "\\overline{ x_n[k] } = E\\{  x[k] \\} \\;\\; \\forall n.\n",
    "\\end{equation}\n",
    "\n",
    "## Important Temporal Averages\n",
    "\n",
    "The linear mean as temporal average of the $n$-th sample function $x_n[k]$ is for instance given by\n",
    "\n",
    "\\begin{equation}\n",
    "\\overline{x_n[k]} = \\lim_{K \\to \\infty} \\frac{1}{2K + 1} \\sum_{k = -K}^{K} x_n[k].\n",
    "\\end{equation}\n",
    "\n",
    "Furthermore, the quadratic mean from simple quadratic mapping is given as\n",
    "\\begin{equation}\n",
    "\\lim_{K \\to \\infty} \\frac{1}{2K + 1} \\sum_{k = -K}^{K} x^2_n[k],\n",
    "\\end{equation}\n",
    "\n",
    "the variance is given as\n",
    "\\begin{equation}\n",
    "\\lim_{K \\to \\infty} \\frac{1}{2K + 1} \\sum_{k = -K}^{K} (x_n[k]-\\overline{x_n[k]})^2,\n",
    "\\end{equation}\n",
    "\n",
    "the cross-correlation as\n",
    "\\begin{equation}\n",
    "\\lim_{K \\to \\infty} \\frac{1}{2K + 1} \\sum_{k=-K}^{K} x[k] \\cdot y[k-\\kappa],\n",
    "\\end{equation}\n",
    "\n",
    "and the auto- correlation as\n",
    "\\begin{equation}\n",
    "\\lim_{K \\to \\infty} \\frac{1}{2K + 1} \\sum_{k=-K}^{K} x[k] \\cdot x[k-\\kappa].\n",
    "\\end{equation}\n",
    "\n",
    "These equations hold for power signals. Virtually all random signals are power signals rather than energy signals. \n"
   ]
  },
  {
   "cell_type": "markdown",
   "metadata": {},
   "source": [
    "# Example: Histogram as PDF Estimate, First-Order Ensemble Averages"
   ]
  },
  {
   "cell_type": "code",
   "execution_count": null,
   "metadata": {},
   "outputs": [],
   "source": [
    "# create random process based on normal distribution\n",
    "Ns = 2**15  # number of sample function\n",
    "Nt = 1  # number of time steps per sample function\n",
    "np.random.seed(1)\n",
    "\n",
    "loc, scale = 3/2, 3  # mu, sigma\n",
    "\n",
    "# create and plot normalized histogram:\n",
    "x = np.random.normal(loc=loc, scale=scale, size=[Ns, Nt])\n",
    "pdf, edges = np.histogram(x[:, 0], bins='auto', density=True)\n",
    "plt.plot(edges[:-1], pdf, 'o-', ms=5, label='histogram')\n",
    "\n",
    "# plot gaussian PDF:\n",
    "theta = np.arange(-12, 15, 0.05)\n",
    "plt.plot(theta, stats.norm.pdf(theta, loc=loc, scale=scale), label='PDF')\n",
    "\n",
    "plt.xlabel(r'$\\theta$')\n",
    "plt.ylabel(r'$\\hat{p}_x(\\theta,k=0)$')\n",
    "plt.title('normalized histogram = PDF estimate')\n",
    "plt.xlim(-12, 15)\n",
    "plt.ylim(-0.05, 0.15)\n",
    "plt.xticks(np.arange(-12, 18, 3))\n",
    "plt.legend()\n",
    "plt.grid(True)"
   ]
  },
  {
   "cell_type": "code",
   "execution_count": null,
   "metadata": {},
   "outputs": [],
   "source": [
    "# ensemble averages by numeric integration\n",
    "# over histogram as a simple pdf estimate:\n",
    "theta_num = edges[:-1]\n",
    "dtheta = np.diff(edges)\n",
    "mu = np.sum(theta_num * pdf * dtheta)  # mu estimate\n",
    "qm = np.sum(theta_num**2 * pdf * dtheta)  # quadratic mean estimate\n",
    "sig2 = np.sum((theta_num-mu)**2 * pdf * dtheta)  # sigma^2 estimate\n",
    "print('intended ensemble average: mu = %5.3f, mu^2 = %5.3f, sigma^2 = %5.3f, mu^2 + sigma^2 = %5.3f' %\n",
    "      (loc, loc**2, scale**2, loc**2+scale**2))\n",
    "print(' numeric ensemble average: mu = %5.3f, mu^2 = %5.3f, sigma^2 = %5.3f, mu^2 + sigma^2 = %5.3f' %\n",
    "      (mu, mu**2, sig2, qm))"
   ]
  },
  {
   "cell_type": "markdown",
   "metadata": {},
   "source": [
    "#  Example: Higher-Order Ensemble Averages"
   ]
  },
  {
   "cell_type": "code",
   "execution_count": null,
   "metadata": {},
   "outputs": [],
   "source": [
    "# create two random processes based on normal distribution\n",
    "Ns = 2**10  # number of sample functions at certain time instant k\n",
    "Nt = 1  # number of time steps per sample function\n",
    "np.random.seed(1)\n",
    "\n",
    "# 1st process:\n",
    "loc, scale = 1, 3\n",
    "x = np.random.normal(loc=loc, scale=scale, size=[Ns, Nt])\n",
    "\n",
    "# 2nd process:\n",
    "loc, scale = 2, 4\n",
    "y = np.random.normal(loc=loc, scale=scale, size=[Ns, Nt])"
   ]
  },
  {
   "cell_type": "code",
   "execution_count": null,
   "metadata": {
    "scrolled": true
   },
   "outputs": [],
   "source": [
    "crosspower = np.mean(x * y)\n",
    "covariance = np.mean((x-np.mean(x)) * (y-np.mean(y)))\n",
    "rho = np.mean((x-np.mean(x))/np.std(x) * (y-np.mean(y))/np.std(y))\n",
    "print('crosspower = %4.3f, covariance = %4.3f,  correlation coefficient rho = %4.3f' %\n",
    "      (crosspower, covariance, rho))"
   ]
  },
  {
   "cell_type": "markdown",
   "metadata": {},
   "source": [
    "# Ensemble Average vs. Temporal Average"
   ]
  },
  {
   "cell_type": "code",
   "execution_count": null,
   "metadata": {},
   "outputs": [],
   "source": [
    "# create random process based on normal distribution\n",
    "Ns = 2**10  # number of sample function\n",
    "Nt = 2**12  # number of time steps per sample function\n",
    "np.random.seed(1)\n",
    "\n",
    "loc, scale = 3/2, 3  # mu, sigma\n",
    "x = np.random.normal(loc=loc, scale=scale, size=[Ns, Nt])\n",
    "\n",
    "plt.figure(figsize=(10, 3))\n",
    "plt.subplot(1, 2, 1)\n",
    "plt.plot(x[:, 0])\n",
    "plt.xlabel('k')\n",
    "plt.ylabel(r'x$_n$[0]')\n",
    "\n",
    "plt.subplot(1, 2, 2)\n",
    "plt.plot(x[0, :])\n",
    "plt.xlabel('k')\n",
    "plt.ylabel(r'x$_0$[k]')\n",
    "\n",
    "if False:  # add cosine over sample functions, fixed time\n",
    "    tmp = 2*np.cos(2 * 2*np.pi/Ns * np.arange(0, Ns)) + 2\n",
    "    x = x + np.transpose(np.tile(tmp, (Nt, 1)))\n",
    "    plt.subplot(1, 2, 1)\n",
    "    plt.plot(x[:, 0])\n",
    "    plt.xlabel('k')\n",
    "    plt.ylabel(r'x$_n$[0]')\n",
    "    plt.title('cosine modulation on sample function entries at k=0')\n",
    "elif False:  # add cosine over time, fixed sample function\n",
    "    tmp = 2*np.cos(2 * 2*np.pi/Nt * np.arange(0, Nt)) + 2\n",
    "    x = x + np.tile(tmp, (Ns, 1))\n",
    "    plt.subplot(1, 2, 2)\n",
    "    plt.plot(x[0, :])\n",
    "    plt.xlabel('k')\n",
    "    plt.ylabel(r'x$_0$[k]')\n",
    "    plt.title('sample function over time, example with cosine modulation')\n",
    "\n",
    "plt.figure(figsize=(10, 10))\n",
    "plt.subplot(3, 1, 1)\n",
    "plt.plot(np.mean(x, axis=0), label=r'ensemble average for fixed time instance')\n",
    "plt.plot(np.mean(x, axis=1), label='temporal average for fixed sample function')\n",
    "plt.plot([0, Nt], [loc, loc])\n",
    "plt.legend()\n",
    "plt.title(r'linear mean $E\\{x\\} = \\mu$ of random process')\n",
    "plt.grid(True)\n",
    "\n",
    "plt.subplot(3, 1, 2)\n",
    "plt.plot(np.var(x, axis=0))\n",
    "plt.plot(np.var(x, axis=1))\n",
    "plt.plot([0, Nt], [scale**2, scale**2])\n",
    "plt.title('variance  $E\\{(x -E\\{x\\} )^2\\} = \\sigma^2$ of random process')\n",
    "plt.grid(True)\n",
    "\n",
    "plt.subplot(3, 1, 3)\n",
    "plt.plot(np.mean(x**2, axis=0))\n",
    "plt.plot(np.mean(x**2, axis=1))\n",
    "plt.plot([0, Nt], [loc**2+scale**2, loc**2+scale**2])\n",
    "plt.title('quadratic mean $E\\{x^2\\} = \\mu^2+\\sigma^2$  of random process')\n",
    "plt.grid(True)"
   ]
  },
  {
   "cell_type": "markdown",
   "metadata": {},
   "source": [
    "# Higher-Order Temporal Averages"
   ]
  },
  {
   "cell_type": "code",
   "execution_count": null,
   "metadata": {},
   "outputs": [],
   "source": [
    "# create two random processes based on normal distribution\n",
    "Ns = 1  # number of sample functions at certain time instant k\n",
    "Nt = 2**7  # number of time steps per sample function\n",
    "np.random.seed(1)\n",
    "\n",
    "# 1st process:\n",
    "loc, scale = 1, 3\n",
    "x = np.random.normal(loc=loc, scale=scale, size=[Ns, Nt])\n",
    "\n",
    "# 2nd process:\n",
    "loc, scale = 2, 4\n",
    "y = np.random.normal(loc=loc, scale=scale, size=[Ns, Nt])"
   ]
  },
  {
   "cell_type": "markdown",
   "metadata": {},
   "source": [
    "## Auto-Correlation Function"
   ]
  },
  {
   "cell_type": "code",
   "execution_count": null,
   "metadata": {},
   "outputs": [],
   "source": [
    "plt.figure(figsize=(10, 3))\n",
    "plt.subplot(1, 2, 1)\n",
    "kappa, ccf = my_xcorr(x[0, :], x[0, :])\n",
    "plt.stem(kappa, ccf, basefmt='C0:')\n",
    "plt.xlabel(r'$\\kappa$')\n",
    "plt.title(r'ACorF $\\phi_{xx}[\\kappa]$')\n",
    "plt.grid(True)\n",
    "plt.subplot(1, 2, 2)\n",
    "kappa, ccf = my_xcorr(y[0, :], y[0, :])\n",
    "plt.stem(kappa, ccf, basefmt='C0:')\n",
    "plt.xlabel(r'$\\kappa$')\n",
    "plt.title(r'ACorF $\\phi_{yy}[\\kappa]$')\n",
    "plt.grid(True)"
   ]
  },
  {
   "cell_type": "markdown",
   "metadata": {},
   "source": [
    "## Cross-Correlation Function"
   ]
  },
  {
   "cell_type": "code",
   "execution_count": null,
   "metadata": {},
   "outputs": [],
   "source": [
    "plt.figure(figsize=(10, 3))\n",
    "plt.subplot(1, 2, 1)\n",
    "kappa, ccf = my_xcorr(x[0, :], y[0, :])\n",
    "plt.stem(kappa, ccf, basefmt='C0:')\n",
    "plt.xlabel(r'$\\kappa$')\n",
    "plt.title(r'CCorF $\\phi_{xy}[\\kappa]=\\phi_{yx}[-\\kappa]$')\n",
    "plt.grid(True)\n",
    "plt.subplot(1, 2, 2)\n",
    "kappa, ccf = my_xcorr(y[0, :], x[0, :])\n",
    "plt.stem(kappa, ccf, basefmt='C0:')\n",
    "plt.xlabel(r'$\\kappa$')\n",
    "plt.title(r'CCorF $\\phi_{yx}[\\kappa]=\\phi_{xy}[-\\kappa]$')\n",
    "plt.grid(True)"
   ]
  },
  {
   "cell_type": "markdown",
   "metadata": {},
   "source": [
    "##  Auto-Covariance Function"
   ]
  },
  {
   "cell_type": "code",
   "execution_count": null,
   "metadata": {},
   "outputs": [],
   "source": [
    "plt.figure(figsize=(10, 3))\n",
    "plt.subplot(1, 2, 1)\n",
    "kappa, ccf = my_xcorr(x[0, :]-np.mean(x[0, :]), x[0, :]-np.mean(x[0, :]))\n",
    "plt.stem(kappa, ccf, basefmt='C0:')\n",
    "plt.xlabel(r'$\\kappa$')\n",
    "plt.title(r'ACovF$_{xx}[\\kappa]$')\n",
    "plt.grid(True)\n",
    "plt.subplot(1, 2, 2)\n",
    "kappa, ccf = my_xcorr(y[0, :]-np.mean(y[0, :]), y[0, :]-np.mean(y[0, :]))\n",
    "plt.stem(kappa, ccf, basefmt='C0:')\n",
    "plt.xlabel(r'$\\kappa$')\n",
    "plt.title(r'ACovF$_{yy}[\\kappa]$')\n",
    "plt.grid(True)"
   ]
  },
  {
   "cell_type": "markdown",
   "metadata": {},
   "source": [
    "## Cross-Covariance Function"
   ]
  },
  {
   "cell_type": "code",
   "execution_count": null,
   "metadata": {},
   "outputs": [],
   "source": [
    "plt.figure(figsize=(10, 3))\n",
    "plt.subplot(1, 2, 1)\n",
    "kappa, ccf = my_xcorr(x[0, :]-np.mean(x[0, :]), y[0, :]-np.mean(y[0, :]))\n",
    "plt.stem(kappa, ccf, basefmt='C0:')\n",
    "plt.xlabel(r'$\\kappa$')\n",
    "plt.title(r'CCovF$_{xy}[\\kappa]=_{yx}[-\\kappa]$')\n",
    "plt.grid(True)\n",
    "plt.subplot(1, 2, 2)\n",
    "kappa, ccf = my_xcorr(y[0, :]-np.mean(y[0, :]), x[0, :]-np.mean(x[0, :]))\n",
    "plt.stem(kappa, ccf, basefmt='C0:')\n",
    "plt.xlabel(r'$\\kappa$')\n",
    "plt.title(r'CCovF$_{yx}[\\kappa]=_{xy}[-\\kappa]$')\n",
    "plt.grid(True)"
   ]
  },
  {
   "cell_type": "markdown",
   "metadata": {},
   "source": [
    "# **Copyright**\n",
    "\n",
    "The notebooks are provided as [Open Educational Resources](https://en.wikipedia.org/wiki/Open_educational_resources). Feel free to use the notebooks for your own purposes. The text is licensed under [Creative Commons Attribution 4.0](https://creativecommons.org/licenses/by/4.0/), the code of the IPython examples under the [MIT license](https://opensource.org/licenses/MIT). Please attribute the work as follows: *Frank Schultz, Digital Signal Processing - A Tutorial Featuring Computational Examples* with the URL https://github.com/spatialaudio/digital-signal-processing-exercises"
   ]
  }
 ],
 "metadata": {
  "kernelspec": {
   "display_name": "Python 3",
   "language": "python",
   "name": "python3"
  },
  "language_info": {
   "codemirror_mode": {
    "name": "ipython",
    "version": 3
   },
   "file_extension": ".py",
   "mimetype": "text/x-python",
   "name": "python",
   "nbconvert_exporter": "python",
   "pygments_lexer": "ipython3",
   "version": "3.7.2"
  }
 },
 "nbformat": 4,
 "nbformat_minor": 2
}
