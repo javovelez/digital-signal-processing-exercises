{
 "cells": [
  {
   "cell_type": "markdown",
   "metadata": {},
   "source": [
    "Sascha Spors,\n",
    "Professorship Signal Theory and Digital Signal Processing,\n",
    "Institute of Communications Engineering (INT),\n",
    "Faculty of Computer Science and Electrical Engineering (IEF),\n",
    "University of Rostock, Germany\n",
    "\n",
    "Tutorial Digital Signal Processing (Course #24505),\n",
    "**Uniform Quantization, Diterhing, Noiseshaping**,\n",
    "Winter Semester 2019/20\n",
    "\n",
    "Feel free to contact lecturer frank.schultz@uni-rostock.de\n",
    "\n",
    "- lecture: https://github.com/spatialaudio/digital-signal-processing-lecture\n",
    "- tutorial: https://github.com/spatialaudio/digital-signal-processing-exercises\n",
    "\n",
    "WIP..."
   ]
  },
  {
   "cell_type": "markdown",
   "metadata": {},
   "source": [
    "# Fundamentals"
   ]
  },
  {
   "cell_type": "markdown",
   "metadata": {},
   "source": [
    "## Packages / Functions"
   ]
  },
  {
   "cell_type": "markdown",
   "metadata": {},
   "source": [
    "We import the required packages first."
   ]
  },
  {
   "cell_type": "code",
   "execution_count": null,
   "metadata": {},
   "outputs": [],
   "source": [
    "# most common used packages for DSP, have a look into other scipy submodules\n",
    "import numpy as np\n",
    "import matplotlib as mpl\n",
    "import matplotlib.pyplot as plt\n",
    "from scipy import signal\n",
    "#from scipy import fftpack\n",
    "#from scipy import stats"
   ]
  },
  {
   "cell_type": "markdown",
   "metadata": {},
   "source": [
    "### Midtread Quantization Characteristic Curve"
   ]
  },
  {
   "cell_type": "markdown",
   "metadata": {},
   "source": [
    "Next, we should implement and validate the saturated uniform midtread quantizer.\n",
    "We do this with two approaches. `uniform_midtread_quantizer` follows the lecture using `floor` operation, `my_quant` as an alternative approach uses `round` operation.\n",
    "Both approaches yield the same results besides a slight detail: `uniform_midtread_quantizer` always exhibits **even** number of quantization steps.\n",
    "\n",
    "Detailed analysis for `my_quant` would be:\n",
    "\n",
    "- it always saturates $x<-1$ towards $x_q = -1$\n",
    "- in the case of an **odd** number of quantization steps $Q$, it saturates $x>+1$ towards $x_q = +1$\n",
    "- In the case of an **even** number of quantization steps $Q$, it saturates $x>\\frac{Q - 1 - \\frac{Q}{2}}{\\frac{Q}{2}}$ towards $x_q = \\frac{Q - 1 - \\frac{Q}{2}}{\\frac{Q}{2}}$.\n",
    "\n",
    "The last case is used for AD and DA converters, since it is meaningful, when additionally\n",
    "\n",
    "\\begin{equation}\n",
    "\\log_2(Q)\\in\\mathbb{N}\n",
    "\\end{equation}\n",
    "\n",
    "holds, to code the $Q$ possible quantization steps with bits.\n",
    "\n",
    "Said differently: the number range convention for analog/digital (AD) and digital/analog (DA) converters is \n",
    "\n",
    "\\begin{equation}\n",
    "-1\\leq x \\leq 1-2^{-(B-1)}\n",
    "\\end{equation}\n",
    "\n",
    "using \n",
    "\n",
    "\\begin{equation}\n",
    "Q=2^B\n",
    "\\end{equation}\n",
    "\n",
    "quantization steps, where $B\\in\\mathbb{Z}$ denotes the number of bits.\n",
    "Values of $x$ outside this range will be saturated to their minimum and maximum quantization values.\n",
    "\n",
    "For example, $B = 16$ bit is used for CD audio quality.\n",
    "Then we get the following quantities."
   ]
  },
  {
   "cell_type": "code",
   "execution_count": null,
   "metadata": {},
   "outputs": [],
   "source": [
    "B = 16\n",
    "Q = 2**B\n",
    "xqmax = 1-2**(-(B-1))\n",
    "# or more general for even Q\n",
    "xqmax = (Q-1-Q/2)/(Q/2)\n",
    "deltaQ = 2/Q  # holds for even Q only\n",
    "print(' B=%d bits\\n quantization steps Q=%d\\n quantization step size %e\\n largest quantization value xqmax=%16.15f' %\n",
    "      (B, Q, deltaQ, xqmax))\n",
    "print(' smallest quantization value xqmin=-1')\n",
    "# B=16 bits\n",
    "# quantization steps Q=65536\n",
    "# quantization step size 3.051758e-05\n",
    "# largest quantization value xqmax=0.999969482421875\n",
    "# smallest quantization value xqmin=-1"
   ]
  },
  {
   "cell_type": "code",
   "execution_count": null,
   "metadata": {},
   "outputs": [],
   "source": [
    "def uniform_midtread_quantizer(x, deltaQ):\n",
    "    r\"\"\"uniform_midtread_quantizer from the lecture:\n",
    "    https://github.com/spatialaudio/digital-signal-processing-lecture/blob/master/quantization/linear_uniform_quantization_error.ipynb\n",
    "    commit: b00e23e\n",
    "    note: we renamed the second input to deltaQ, since this is what the variable\n",
    "    actually represents, i.e. the quantization step size\n",
    "    \"\"\"\n",
    "    # limiter\n",
    "    x = np.copy(x)\n",
    "    idx = np.where(x <= -1)\n",
    "    x[idx] = -1\n",
    "    idx = np.where(x > 1 - deltaQ)\n",
    "    x[idx] = 1 - deltaQ\n",
    "    # linear uniform quantization\n",
    "    xQ = deltaQ * np.floor(x/deltaQ + 1/2)\n",
    "    return xQ"
   ]
  },
  {
   "cell_type": "code",
   "execution_count": null,
   "metadata": {},
   "outputs": [],
   "source": [
    "def my_quant(x, Q):\n",
    "    r\"\"\"Saturated uniform midtread quantizer\n",
    "\n",
    "    x  input signal\n",
    "    Q  number of quantization steps\n",
    "    xq quantized output signal\n",
    "\n",
    "    Note: for even Q in order to retain midtread characteristics,\n",
    "    we must omit one quantization step, either that for lowest or the highest\n",
    "    amplitudes. Typically the highest signal amplitudes are saturated to\n",
    "    the 'last' quantization step. Then, in the special case of log2(N)\n",
    "    being an integer the quantization can be represented with bits.\n",
    "    \"\"\"\n",
    "    tmp = Q//2  # integer div\n",
    "    quant_steps = (np.arange(0, Q) - tmp) / tmp  # we don't use this\n",
    "\n",
    "    # forward quantization, round() and inverse quantization\n",
    "    xq = np.round(x*tmp) / tmp\n",
    "    # always saturate to -1\n",
    "    xq[xq < -1.] = -1.\n",
    "    # saturate to ((Q-1) - (Q\\2)) / (Q\\2), note that \\ is integer div\n",
    "    tmp2 = ((Q-1) - tmp) / tmp  # for odd N this always yields 1\n",
    "    xq[xq > tmp2] = tmp2\n",
    "    return xq"
   ]
  },
  {
   "cell_type": "code",
   "execution_count": null,
   "metadata": {},
   "outputs": [],
   "source": [
    "Q = 8  # number of quantization steps\n",
    "deltaQ = 1/(Q//2)  # quantization step size\n",
    "x = np.arange(-1.25, +1.25, 1e-3)\n",
    "xq = my_quant(x, Q)\n",
    "xumq = uniform_midtread_quantizer(x, deltaQ)\n",
    "\n",
    "plt.figure(figsize=(6, 6))\n",
    "plt.plot(x, xumq, label='uniform_midtread_quantizer()')\n",
    "plt.plot(x, xq, label='my_quant()')\n",
    "plt.xticks(np.arange(-1, 1.25, 0.25))\n",
    "plt.yticks(np.arange(-1, 1.25, 0.25))\n",
    "plt.xlabel(r'input $x$')\n",
    "plt.ylabel(r'output $x_q$')\n",
    "plt.title('uniform saturated midtread quantization')\n",
    "plt.axis('equal')\n",
    "plt.legend()\n",
    "plt.grid(True)"
   ]
  },
  {
   "cell_type": "code",
   "execution_count": null,
   "metadata": {},
   "outputs": [],
   "source": [
    "N = 1e4\n",
    "x = 2*np.arange(0, N)/N - 1"
   ]
  },
  {
   "cell_type": "code",
   "execution_count": null,
   "metadata": {},
   "outputs": [],
   "source": [
    "def check_my_quant(x, Q):\n",
    "    xq = my_quant(x, Q)\n",
    "    e = xq - x\n",
    "\n",
    "    plt.plot(x, x, label=r'$x[k]$')\n",
    "    plt.plot(x, xq, label=r'$x_q[k]$')\n",
    "    plt.plot(x, e, label=r'$e[k] = x_q[k] - x[k]$')\n",
    "    plt.xticks(np.arange(-1, 1.25, 0.25))\n",
    "    plt.yticks(np.arange(-1, 1.25, 0.25))\n",
    "    plt.xlabel('input')\n",
    "    plt.ylabel('output')\n",
    "    if np.mod(Q, 2) == 0:\n",
    "        s = ' saturated '\n",
    "    else:\n",
    "        s = ' '\n",
    "    plt.title('uniform'+s+'midtread quantization with Q='+str(Q)+' steps')\n",
    "    plt.axis('equal')\n",
    "    plt.legend()\n",
    "    plt.grid(True)"
   ]
  },
  {
   "cell_type": "code",
   "execution_count": null,
   "metadata": {},
   "outputs": [],
   "source": [
    "check_my_quant(x, Q=17)"
   ]
  },
  {
   "cell_type": "code",
   "execution_count": null,
   "metadata": {},
   "outputs": [],
   "source": [
    "check_my_quant(x, Q=16)"
   ]
  },
  {
   "cell_type": "code",
   "execution_count": null,
   "metadata": {},
   "outputs": [],
   "source": [
    "def check_quant_SNR(x, dBoffset, title):\n",
    "    print(np.std(x), np.var(x), np.mean(x))\n",
    "    Bmax = 24\n",
    "    SNR = np.zeros(Bmax+1)\n",
    "    SNR_ideal = np.zeros(Bmax+1)\n",
    "\n",
    "    for B in range(1, Bmax+1):  # start at 1, since zero Q is not meaningful\n",
    "        xq = my_quant(x, 2**B)\n",
    "        SNR[B] = 10*np.log10(np.var(x) / np.var(xq-x))\n",
    "        SNR_ideal[B] = B*20*np.log10(2) + dBoffset  # 6dB/bit + offset rule\n",
    "\n",
    "    plt.figure(figsize=(5, 5))\n",
    "    plt.plot(SNR_ideal, label='theoretical', lw=3)\n",
    "    plt.plot(SNR, label='simulation')\n",
    "    plt.xticks(np.arange(0, 26, 2))\n",
    "    plt.yticks(np.arange(0, 156, 12))\n",
    "    plt.xlim(2, 24)\n",
    "    plt.ylim(6, 148)\n",
    "    plt.xlabel('number of bits')\n",
    "    plt.ylabel('SNR / dB')\n",
    "    plt.title(title)\n",
    "    plt.legend()\n",
    "    plt.grid(True)"
   ]
  },
  {
   "cell_type": "code",
   "execution_count": null,
   "metadata": {
    "run_control": {
     "marked": false
    }
   },
   "outputs": [],
   "source": [
    "N = 10000\n",
    "k = np.arange(0, N)"
   ]
  },
  {
   "cell_type": "code",
   "execution_count": null,
   "metadata": {
    "run_control": {
     "marked": false
    }
   },
   "outputs": [],
   "source": [
    "np.random.seed(4)\n",
    "x = np.random.rand(N)\n",
    "x = x - np.mean(x)\n",
    "x = x / np.std(x) * np.sqrt(1/3)\n",
    "dBoffset = 0\n",
    "check_quant_SNR(x, dBoffset, 'Uniform PDF')"
   ]
  },
  {
   "cell_type": "code",
   "execution_count": null,
   "metadata": {
    "run_control": {
     "marked": false
    }
   },
   "outputs": [],
   "source": [
    "Omega = 2*np.pi * 997/44100  # use a rather odd ratio: e.g. in audio 997 Hz / 44100 Hz\n",
    "sigma2 = 1/2\n",
    "dBoffset = -10*np.log10(2 / 3)\n",
    "x = np.sqrt(2*sigma2) * np.sin(Omega*k)\n",
    "check_quant_SNR(x, dBoffset, 'Sine')"
   ]
  },
  {
   "cell_type": "code",
   "execution_count": null,
   "metadata": {
    "run_control": {
     "marked": false
    }
   },
   "outputs": [],
   "source": [
    "np.random.seed(4)\n",
    "x = np.random.randn(N)\n",
    "x = x - np.mean(x)\n",
    "x = x / np.std(x) * np.sqrt(0.0471)\n",
    "dBoffset = -8.5  # from clipping propability 1e-5\n",
    "check_quant_SNR(x, dBoffset, 'Normal PDF')"
   ]
  },
  {
   "cell_type": "code",
   "execution_count": null,
   "metadata": {
    "run_control": {
     "marked": false
    }
   },
   "outputs": [],
   "source": [
    "np.random.seed(4)\n",
    "x = np.random.laplace(size=N)\n",
    "pClip = 1e-5  # clipping propability\n",
    "sigma = -np.sqrt(2) / np.log(pClip)\n",
    "x = x - np.mean(x)\n",
    "x = x / np.std(x) * sigma\n",
    "dBoffset = -13.5  # empircially found for pClip = 1e-5\n",
    "check_quant_SNR(x, dBoffset, 'Laplace PDF')"
   ]
  },
  {
   "cell_type": "markdown",
   "metadata": {},
   "source": [
    "# **Copyright**\n",
    "\n",
    "The notebooks are provided as [Open Educational Resources](https://en.wikipedia.org/wiki/Open_educational_resources). Feel free to use the notebooks for your own purposes. The text is licensed under [Creative Commons Attribution 4.0](https://creativecommons.org/licenses/by/4.0/), the code of the IPython examples under the [MIT license](https://opensource.org/licenses/MIT). Please attribute the work as follows: *Frank Schultz, Digital Signal Processing - A Tutorial Featuring Computational Examples* with the URL https://github.com/spatialaudio/digital-signal-processing-exercises"
   ]
  }
 ],
 "metadata": {
  "kernelspec": {
   "display_name": "Python 3",
   "language": "python",
   "name": "python3"
  },
  "language_info": {
   "codemirror_mode": {
    "name": "ipython",
    "version": 3
   },
   "file_extension": ".py",
   "mimetype": "text/x-python",
   "name": "python",
   "nbconvert_exporter": "python",
   "pygments_lexer": "ipython3",
   "version": "3.7.5"
  }
 },
 "nbformat": 4,
 "nbformat_minor": 2
}
