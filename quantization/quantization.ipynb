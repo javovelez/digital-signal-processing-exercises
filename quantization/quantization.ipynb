{
 "cells": [
  {
   "cell_type": "markdown",
   "metadata": {},
   "source": [
    "Sascha Spors,\n",
    "Professorship Signal Theory and Digital Signal Processing,\n",
    "Institute of Communications Engineering (INT),\n",
    "Faculty of Computer Science and Electrical Engineering (IEF),\n",
    "University of Rostock, Germany\n",
    "\n",
    "Tutorial Digital Signal Processing (Course #24505),\n",
    "**Quantization**,\n",
    "Winter Semester 2019/20\n",
    "\n",
    "Feel free to contact lecturer frank.schultz@uni-rostock.de\n",
    "\n",
    "- lecture: https://github.com/spatialaudio/digital-signal-processing-lecture\n",
    "- tutorial: https://github.com/spatialaudio/digital-signal-processing-exercises"
   ]
  },
  {
   "cell_type": "markdown",
   "metadata": {},
   "source": [
    "# Fundamentals"
   ]
  },
  {
   "cell_type": "markdown",
   "metadata": {},
   "source": [
    "## Packages / Functions\n",
    "\n",
    "We import the required packages first."
   ]
  },
  {
   "cell_type": "code",
   "execution_count": null,
   "metadata": {},
   "outputs": [],
   "source": [
    "# most common used packages for DSP, have a look into other scipy submodules\n",
    "import numpy as np\n",
    "import matplotlib as mpl\n",
    "import matplotlib.pyplot as plt\n",
    "from scipy import signal\n",
    "#from scipy import fftpack\n",
    "#from scipy import stats"
   ]
  },
  {
   "cell_type": "markdown",
   "metadata": {},
   "source": [
    "Next, we should implement and validate the midtread quantizer.\n",
    "We do this with two approaches. `uniform_midtread_quantizer` follows the lecture and thus directly the calculation of the quantization model. `my_quant` is a more intuitive approach using `round` rather than `floor`. \n",
    "\n",
    "They differentiate slightly as follows:\n",
    "\n",
    "- `uniform_midtread_quantizer` always exhibits odd number of quantization steps\n",
    "- Both quantization functions saturate $x<-1$ towards $x_q = -1$\n",
    "- `uniform_midtread_quantizer` saturates $x>+1$ towards $x_q = +1$\n",
    "- In the case of an odd number of quantization steps, `my_quant`  saturates $x>+1$ towards $x_q = +1$\n",
    "- In the case of an even number of quantization steps, `my_quant` saturates $x>1-2^{-B}$ towards $x_q = 1-2^{-(B-1)}$.\n",
    "\n",
    "The last case is used for AD and DA converters, since it is meaningful to code an even number of conditions with bits.\n",
    "Said differently: the number range convention for analog/digital (AD) and digital/analog (DA) converters is $-1\\leq x \\leq 1-2^{-(B-1)}$ using $2^B$ quantization steps, $B$ denotes the number of bits, e.g. B = 16 bit for CD audio quality. Values outside this range will be saturated to their border values."
   ]
  },
  {
   "cell_type": "code",
   "execution_count": null,
   "metadata": {},
   "outputs": [],
   "source": [
    "def uniform_midtread_quantizer(x, Q):\n",
    "    # from lecture:\n",
    "    # https://github.com/spatialaudio/digital-signal-processing-lecture/blob/master/quantization/linear_uniform_characteristic.ipynb\n",
    "    # commit: b00e23e\n",
    "    \n",
    "    # limiter\n",
    "    x = np.copy(x)\n",
    "    idx = np.where(np.abs(x) >= 1)\n",
    "    x[idx] = np.sign(x[idx])\n",
    "    # linear uniform quantization\n",
    "    xQ = Q * np.floor(x/Q + 1/2)\n",
    "    return xQ\n",
    "\n",
    "def my_quant(x, N):\n",
    "    # saturated midtread quantizer\n",
    "    # input signal x\n",
    "    # number of quantization steps N\n",
    "    # if N is even: largest step is saturated to previous step, such that even\n",
    "    # number of code words can be assigned and thus can be represented as bits\n",
    "    tmp = N//2\n",
    "    quant_steps = (np.arange(0, N) - tmp) / tmp\n",
    "    xq = np.round(x*tmp) / tmp\n",
    "    xq[xq < quant_steps[0]] = quant_steps[0]\n",
    "    xq[xq > quant_steps[-1]] = quant_steps[-1]\n",
    "    return xq\n",
    "\n",
    "N = 8  # number of quantization steps\n",
    "x = np.arange(-1.1, +1.1, 1e-3)\n",
    "xq = my_quant(x, N)\n",
    "xumq = uniform_midtread_quantizer(x, 1/(N//2))\n",
    "\n",
    "plt.figure(figsize=(6, 6))\n",
    "plt.plot(x, xumq, label='uniform_midtread_quantizer()')\n",
    "plt.plot(x, xq, label='my_quant()')\n",
    "plt.xticks(np.arange(-1, 1.25, 0.25))\n",
    "plt.yticks(np.arange(-1, 1.25, 0.25))\n",
    "plt.axis('equal')\n",
    "plt.legend()\n",
    "plt.grid(True)\n"
   ]
  },
  {
   "cell_type": "markdown",
   "metadata": {},
   "source": [
    "# **Copyright**\n",
    "\n",
    "The notebooks are provided as [Open Educational Resources](https://en.wikipedia.org/wiki/Open_educational_resources). Feel free to use the notebooks for your own purposes. The text is licensed under [Creative Commons Attribution 4.0](https://creativecommons.org/licenses/by/4.0/), the code of the IPython examples under the [MIT license](https://opensource.org/licenses/MIT). Please attribute the work as follows: *Frank Schultz, Digital Signal Processing - A Tutorial Featuring Computational Examples* with the URL https://github.com/spatialaudio/digital-signal-processing-exercises"
   ]
  }
 ],
 "metadata": {
  "kernelspec": {
   "display_name": "Python 3",
   "language": "python",
   "name": "python3"
  },
  "language_info": {
   "codemirror_mode": {
    "name": "ipython",
    "version": 3
   },
   "file_extension": ".py",
   "mimetype": "text/x-python",
   "name": "python",
   "nbconvert_exporter": "python",
   "pygments_lexer": "ipython3",
   "version": "3.7.5"
  }
 },
 "nbformat": 4,
 "nbformat_minor": 2
}
