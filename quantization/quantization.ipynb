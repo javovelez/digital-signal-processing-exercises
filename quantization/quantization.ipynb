{
 "cells": [
  {
   "cell_type": "markdown",
   "metadata": {},
   "source": [
    "Sascha Spors,\n",
    "Professorship Signal Theory and Digital Signal Processing,\n",
    "Institute of Communications Engineering (INT),\n",
    "Faculty of Computer Science and Electrical Engineering (IEF),\n",
    "University of Rostock, Germany\n",
    "\n",
    "Tutorial Digital Signal Processing (Course #24505),\n",
    "**Uniform Quantization, Dithering, Noiseshaping**,\n",
    "Winter Semester 2019/20\n",
    "\n",
    "Feel free to contact lecturer frank.schultz@uni-rostock.de\n",
    "\n",
    "- lecture: https://github.com/spatialaudio/digital-signal-processing-lecture\n",
    "- tutorial: https://github.com/spatialaudio/digital-signal-processing-exercises\n",
    "\n",
    "WIP..."
   ]
  },
  {
   "cell_type": "markdown",
   "metadata": {},
   "source": [
    "# Fundamentals"
   ]
  },
  {
   "cell_type": "markdown",
   "metadata": {},
   "source": [
    "## Packages / Functions"
   ]
  },
  {
   "cell_type": "markdown",
   "metadata": {},
   "source": [
    "We import the required packages first."
   ]
  },
  {
   "cell_type": "code",
   "execution_count": null,
   "metadata": {},
   "outputs": [],
   "source": [
    "# most common used packages for DSP, have a look into other scipy submodules\n",
    "import numpy as np\n",
    "import matplotlib as mpl\n",
    "import matplotlib.pyplot as plt\n",
    "from scipy import signal\n",
    "#from scipy import fftpack\n",
    "#from scipy import stats\n",
    "\n",
    "#audio write and play stuff\n",
    "import soundfile as sf\n",
    "import IPython.display as ipd\n",
    "\n",
    "def my_xcorr2(x, y, scaleopt='none'):\n",
    "    N = len(x)\n",
    "    M = len(y)\n",
    "    kappa = np.arange(0, N+M-1) - (M-1)\n",
    "    ccf = signal.correlate(x, y, mode='full', method='auto')\n",
    "    if N == M:\n",
    "        if scaleopt == 'none' or scaleopt == 'raw':\n",
    "            ccf /= 1\n",
    "        elif scaleopt == 'biased' or scaleopt == 'bias':\n",
    "            ccf /= N\n",
    "        elif scaleopt == 'unbiased' or scaleopt == 'unbias':\n",
    "            ccf /= (N - np.abs(kappa))\n",
    "        elif scaleopt == 'coeff' or scaleopt == 'normalized':\n",
    "            ccf /= np.sqrt(np.sum(x**2) * np.sum(y**2))\n",
    "        else:\n",
    "            print('scaleopt unknown: we leave output unnormalized')\n",
    "    return kappa, ccf"
   ]
  },
  {
   "cell_type": "markdown",
   "metadata": {},
   "source": [
    "### Midtread Quantization Characteristic Curve"
   ]
  },
  {
   "cell_type": "markdown",
   "metadata": {},
   "source": [
    "Next, we should implement and validate the saturated uniform midtread quantizer.\n",
    "We do this with two approaches. `uniform_midtread_quantizer` follows the lecture using `floor` operation, `my_quant` as an alternative approach uses `round` operation.\n",
    "Both approaches yield the same results besides a slight detail: `uniform_midtread_quantizer` always exhibits **even** number of quantization steps.\n",
    "\n",
    "Detailed analysis for `my_quant` would be:\n",
    "\n",
    "- it always saturates $x<-1$ towards $x_q = -1$\n",
    "- in the case of an **odd** number of quantization steps $Q$, it saturates $x>+1$ towards $x_q = +1$. The quantization step size is $\\Delta Q = \\frac{2}{Q}$.\n",
    "- In the case of an **even** number of quantization steps $Q$, it saturates $x>\\frac{Q - 1 - \\frac{Q}{2}}{\\frac{Q}{2}}$ towards $x_q = \\frac{Q - 1 - \\frac{Q}{2}}{\\frac{Q}{2}}$. The quantization step size is $\\Delta Q = \\frac{2}{Q-1}$.\n",
    "\n",
    "The last case is practically used for virtually all analog/digital (AD) and digital/analog (DA) converters: When additionally\n",
    "\n",
    "\\begin{equation}\n",
    "\\log_2(Q)\\in\\mathbb{N}\n",
    "\\end{equation}\n",
    "\n",
    "holds, it is meaningful to code the $Q$ possible quantization steps with bits.\n",
    "Said differently: the number range convention for AD and DA converters is \n",
    "\n",
    "\\begin{equation}\n",
    "-1\\leq x \\leq 1-2^{-(B-1)}\n",
    "\\end{equation}\n",
    "\n",
    "using \n",
    "\n",
    "\\begin{equation}\n",
    "Q=2^B\n",
    "\\end{equation}\n",
    "\n",
    "quantization steps, where $B\\in\\mathbb{Z}$ denotes the number of bits.\n",
    "Values of $x$ outside this range will be saturated to their minimum and maximum quantization values in the quantization process.\n",
    "\n",
    "For example, $B = 16$ bit is used for CD audio quality.\n",
    "Then we get the following quantities."
   ]
  },
  {
   "cell_type": "code",
   "execution_count": null,
   "metadata": {},
   "outputs": [],
   "source": [
    "B = 16\n",
    "Q = 2**B\n",
    "xqmax = 1-2**(-(B-1))\n",
    "# or more general for even Q\n",
    "xqmax = (Q-1-Q/2)/(Q/2)\n",
    "deltaQ = 2/Q  # for even Q only\n",
    "print(' B = %d bits\\n quantization steps Q = %d\\n quantization step size %e' %\n",
    "      (B, Q, deltaQ))\n",
    "print(' smallest quantization value xqmin=-1')\n",
    "print(' largest quantization value xqmax=%16.15f' % xqmax)\n",
    "# B = 16 bits\n",
    "# quantization steps Q = 65536\n",
    "# quantization step size 3.051758e-05\n",
    "# smallest quantization value xqmin=-1\n",
    "# largest quantization value xqmax=0.999969482421875"
   ]
  },
  {
   "cell_type": "code",
   "execution_count": null,
   "metadata": {},
   "outputs": [],
   "source": [
    "def uniform_midtread_quantizer(x, deltaQ):\n",
    "    r\"\"\"uniform_midtread_quantizer from the lecture:\n",
    "    https://github.com/spatialaudio/digital-signal-processing-lecture/blob/master/quantization/linear_uniform_quantization_error.ipynb\n",
    "    commit: b00e23e\n",
    "    note: we renamed the second input to deltaQ, since this is what the variable\n",
    "    actually represents, i.e. the quantization step size\n",
    "    \"\"\"\n",
    "    # limiter\n",
    "    x = np.copy(x)\n",
    "    idx = np.where(x <= -1)\n",
    "    x[idx] = -1\n",
    "    idx = np.where(x > 1 - deltaQ)\n",
    "    x[idx] = 1 - deltaQ\n",
    "    # linear uniform quantization\n",
    "    xQ = deltaQ * np.floor(x/deltaQ + 1/2)\n",
    "    return xQ"
   ]
  },
  {
   "cell_type": "code",
   "execution_count": null,
   "metadata": {},
   "outputs": [],
   "source": [
    "def my_quant(x, Q):\n",
    "    r\"\"\"Saturated uniform midtread quantizer\n",
    "\n",
    "    x  input signal\n",
    "    Q  number of quantization steps\n",
    "    xq quantized output signal\n",
    "\n",
    "    Note: for even Q in order to retain midtread characteristics,\n",
    "    we must omit one quantization step, either that for lowest or the highest\n",
    "    amplitudes. Typically the highest signal amplitudes are saturated to\n",
    "    the 'last' quantization step. Then, in the special case of log2(N)\n",
    "    being an integer the quantization can be represented with bits.\n",
    "    \"\"\"\n",
    "    tmp = Q//2  # integer div\n",
    "    quant_steps = (np.arange(0, Q) - tmp) / tmp  # we don't use this\n",
    "\n",
    "    # forward quantization, round() and inverse quantization\n",
    "    xq = np.round(x*tmp) / tmp\n",
    "    # always saturate to -1\n",
    "    xq[xq < -1.] = -1.\n",
    "    # saturate to ((Q-1) - (Q\\2)) / (Q\\2), note that \\ is integer div\n",
    "    tmp2 = ((Q-1) - tmp) / tmp  # for odd N this always yields 1\n",
    "    xq[xq > tmp2] = tmp2\n",
    "    return xq"
   ]
  },
  {
   "cell_type": "code",
   "execution_count": null,
   "metadata": {},
   "outputs": [],
   "source": [
    "Q = 16  # number of quantization steps\n",
    "deltaQ = 1/(Q//2)  # quantization step size\n",
    "print('Q = %d, deltaQ=%e' % (Q, deltaQ))\n",
    "\n",
    "x = np.arange(-1.25, +1.25, 1e-3)\n",
    "xq = my_quant(x, Q)\n",
    "xumq = uniform_midtread_quantizer(x, deltaQ)\n",
    "\n",
    "plt.figure(figsize=(6, 6))\n",
    "plt.plot(x, xumq, label='uniform_midtread_quantizer()')\n",
    "plt.plot(x, xq, label='my_quant()')\n",
    "plt.xticks(np.arange(-1, 1.25, 0.25))\n",
    "plt.yticks(np.arange(-1, 1.25, 0.25))\n",
    "plt.xlabel(r'input $x$')\n",
    "plt.ylabel(r'output $x_q$')\n",
    "plt.title('uniform saturated midtread quantization')\n",
    "plt.axis('equal')\n",
    "plt.legend()\n",
    "plt.grid(True)"
   ]
  },
  {
   "cell_type": "markdown",
   "metadata": {},
   "source": [
    "# Exercise 1: Uniform Saturated Midtread Characteristic Curve of Quantization"
   ]
  },
  {
   "cell_type": "code",
   "execution_count": null,
   "metadata": {},
   "outputs": [],
   "source": [
    "def check_my_quant(Q):\n",
    "    N = 1e4\n",
    "    x = 2*np.arange(0, N)/N - 1\n",
    "    xq = my_quant(x, Q)\n",
    "    e = xq - x\n",
    "\n",
    "    plt.plot(x, x, color='C2', label=r'$x[k]$')\n",
    "    plt.plot(x, xq, color='C3', label=r'$x_q[k]$')\n",
    "    plt.plot(x, e, color='C0', label=r'$e[k] = x_q[k] - x[k]$')\n",
    "    plt.xticks(np.arange(-1, 1.25, 0.25))\n",
    "    plt.yticks(np.arange(-1, 1.25, 0.25))\n",
    "    plt.xlabel('input')\n",
    "    plt.ylabel('output')\n",
    "    if np.mod(Q, 2) == 0:\n",
    "        s = ' saturated '\n",
    "    else:\n",
    "        s = ' '\n",
    "    plt.title('uniform'+s+'midtread quantization with Q='+str(Q)+' steps')\n",
    "    plt.axis('equal')\n",
    "    plt.legend(loc='upper left')\n",
    "    plt.grid(True)"
   ]
  },
  {
   "cell_type": "code",
   "execution_count": null,
   "metadata": {},
   "outputs": [],
   "source": [
    "Q = 7  # number of quantization steps\n",
    "deltaQ = 1 / (Q//2)  # general rule\n",
    "deltaQ = 2 / (Q-1)  # for odd Q only\n",
    "check_my_quant(Q)\n",
    "print('Q = %d, deltaQ=%f' % (Q, deltaQ))\n",
    "# Q = 7, deltaQ=0.333333"
   ]
  },
  {
   "cell_type": "code",
   "execution_count": null,
   "metadata": {},
   "outputs": [],
   "source": [
    "Q = 8  # number of quantization steps\n",
    "deltaQ = 1 / (Q//2)  # general rule\n",
    "deltaQ = 2 / Q  # for even Q only\n",
    "check_my_quant(Q)\n",
    "print('Q = %d, deltaQ=%f' % (Q, deltaQ))\n",
    "# Q = 8, deltaQ=0.250000"
   ]
  },
  {
   "cell_type": "markdown",
   "metadata": {},
   "source": [
    "# Exercise 2: Quantization and Signal-to-Noise Ratio"
   ]
  },
  {
   "cell_type": "code",
   "execution_count": null,
   "metadata": {},
   "outputs": [],
   "source": [
    "def check_quant_SNR(x, dBoffset, title):\n",
    "    print(np.std(x), np.var(x), np.mean(x))\n",
    "    Bmax = 24\n",
    "    SNR = np.zeros(Bmax+1)\n",
    "    SNR_ideal = np.zeros(Bmax+1)\n",
    "\n",
    "    for B in range(1, Bmax+1):  # start at 1, since zero Q is not meaningful\n",
    "        xq = my_quant(x, 2**B)\n",
    "        SNR[B] = 10*np.log10(np.var(x) / np.var(xq-x))\n",
    "        SNR_ideal[B] = B*20*np.log10(2) + dBoffset  # 6dB/bit + offset rule\n",
    "\n",
    "    plt.figure(figsize=(5, 5))\n",
    "    plt.plot(SNR_ideal, 'o-', label='theoretical', lw=3)\n",
    "    plt.plot(SNR, 'x-', label='simulation')\n",
    "    plt.xticks(np.arange(0, 26, 2))\n",
    "    plt.yticks(np.arange(0, 156, 12))\n",
    "    plt.xlim(2, 24)\n",
    "    plt.ylim(6, 148)\n",
    "    plt.xlabel('number of bits')\n",
    "    plt.ylabel('SNR / dB')\n",
    "    plt.title(title)\n",
    "    plt.legend()\n",
    "    plt.grid(True)"
   ]
  },
  {
   "cell_type": "code",
   "execution_count": null,
   "metadata": {
    "run_control": {
     "marked": false
    }
   },
   "outputs": [],
   "source": [
    "N = 10000\n",
    "k = np.arange(0, N)"
   ]
  },
  {
   "cell_type": "code",
   "execution_count": null,
   "metadata": {
    "run_control": {
     "marked": false
    }
   },
   "outputs": [],
   "source": [
    "np.random.seed(4)\n",
    "x = np.random.rand(N)\n",
    "x -= np.mean(x)\n",
    "x *= np.sqrt(1/3) / np.std(x)\n",
    "dBoffset = 0\n",
    "check_quant_SNR(x, dBoffset, 'Uniform PDF')"
   ]
  },
  {
   "cell_type": "code",
   "execution_count": null,
   "metadata": {
    "run_control": {
     "marked": false
    }
   },
   "outputs": [],
   "source": [
    "Omega = 2*np.pi * 997/44100  # use a rather odd ratio: e.g. in audio 997 Hz / 44100 Hz\n",
    "sigma2 = 1/2\n",
    "dBoffset = -10*np.log10(2 / 3)\n",
    "x = np.sqrt(2*sigma2) * np.sin(Omega*k)\n",
    "check_quant_SNR(x, dBoffset, 'Sine')"
   ]
  },
  {
   "cell_type": "code",
   "execution_count": null,
   "metadata": {
    "run_control": {
     "marked": false
    }
   },
   "outputs": [],
   "source": [
    "np.random.seed(4)\n",
    "x = np.random.randn(N)\n",
    "x -= np.mean(x)\n",
    "x *= np.sqrt(0.0471) / np.std(x)\n",
    "dBoffset = -8.5  # from clipping propability 1e-5\n",
    "check_quant_SNR(x, dBoffset, 'Normal PDF')"
   ]
  },
  {
   "cell_type": "code",
   "execution_count": null,
   "metadata": {
    "run_control": {
     "marked": false
    }
   },
   "outputs": [],
   "source": [
    "np.random.seed(4)\n",
    "x = np.random.laplace(size=N)\n",
    "pClip = 1e-5  # clipping propability\n",
    "sigma = -np.sqrt(2) / np.log(pClip)\n",
    "x -= np.mean(x)\n",
    "x *= sigma / np.std(x)\n",
    "dBoffset = -13.5  # empircially found for pClip = 1e-5\n",
    "check_quant_SNR(x, dBoffset, 'Laplace PDF')"
   ]
  },
  {
   "cell_type": "markdown",
   "metadata": {},
   "source": [
    "# Exercise 3: Dithering"
   ]
  },
  {
   "cell_type": "markdown",
   "metadata": {},
   "source": [
    "The discrete-time sine signal\n",
    "\n",
    "- $x[k]=\\Delta Q\\cdot\\sin(\\frac{2\\pi f_\\text{sin}}{f_s}k)$,\n",
    "- $0\\leq k<10^5$ with \n",
    "- $f_\\text{sin}=960\\,\\text{Hz}$\n",
    "- and sampling frequency $f_s=48\\,\\text{kHz}$ \n",
    "\n",
    "shall be quantized with the $B=3$ Bit midtread quantizer shown below ($\\Delta Q=\\frac{1}{4}$, $|x_\\text{max}|=1$)."
   ]
  },
  {
   "cell_type": "code",
   "execution_count": null,
   "metadata": {},
   "outputs": [],
   "source": [
    "deltaQ = 1/4\n",
    "Q = int(2/deltaQ)  # for even Q only\n",
    "plt.figure(figsize=(4,4))\n",
    "check_my_quant(Q)"
   ]
  },
  {
   "cell_type": "markdown",
   "metadata": {},
   "source": [
    "Before quantizing $x[k]$, a dither noise signal $d[k]$ shall be added to $x[k]$ according figure below. \n",
    "\n",
    "<img src=\"Quantization_with_Dithering.png\" alt=\"Quantization_with_Dithering\" width=\"400\"/>\n",
    "\n",
    "This dither signal with small amplitudes aims at de-correlating the quantization error $e[k]$ from the quantized signal $x_q[k]$, which is especially important for small amplitudes of $x[k]$.\n",
    "This technique is called **dithering**.\n",
    "For $d[k]=0$ no dithering is applied.\n",
    "\n",
    "Since the quantization error may be in the range $-\\frac{\\Delta Q}{2}\\leq e[k]\\leq \\frac{\\Delta Q}{2}$ (assuming uniform distribution), it appears reasonable to use a dither noise with a probability density function (PDF) of\n",
    "\n",
    "\\begin{equation}\n",
    "p_\\text{RECT}(d)=\\frac{1}{\\Delta Q}\\,\\text{rect}\\left(\\frac{d}{\\Delta Q}\\right),\n",
    "\\end{equation}\n",
    "\n",
    "i.e. a **zero-mean, uniformly distributed noise** with maximum amplitude $|d[k]|=\\frac{\\Delta Q}{2}$.\n",
    "It can be shown that this dither noise improves the quality of the quantized signal.\n",
    "However, there is still a noise modulation (i.e. a too high correlation between $x_q[k]$ and $e[k]$) that depends on the amplitude of the input signal.\n",
    "\n",
    "The noise modulation can be almost completely eliminated with a **zero-mean noise** signal exhibiting a **symmetric triangular PDF**\n",
    "\n",
    "\\begin{equation}\n",
    "p_\\text{TRI}(d)=\\frac{1}{\\Delta Q}\\,\\text{tri}\\left(\\frac{d}{\\Delta Q}\\right)\n",
    "\\end{equation}\n",
    "\n",
    "with maximum amplitude $|d[k]|=Q$.\n",
    "By doing so, an almost ideal decorrelation between $x_q[k]$ and $e[k]$ is realized.\n",
    "In audio, this technique is called TPDF-Dithering (Triangular Probability Density Function Dithering) and can be applied in the mastering process of audio material that is to be distributed e.g. on a CD or via streaming."
   ]
  },
  {
   "cell_type": "markdown",
   "metadata": {},
   "source": [
    "# Task \n",
    "\n",
    "To get an impression on how dithering may be implemented and what quantized signals sound like, the following exercises shall be performed.\n",
    "\n",
    "- Generate the sine signal $x[k]$ defined above.\n",
    "\n",
    "- Generate the dither noise $d_\\text{RECT}[k]$ according to the PDF $p_\\text{RECT}(d)$. Check the resulting amplitude and distribution carefully. The length of $d_\\text{RECT}[k]$ and $x[k]$ must be equal.\n",
    "\n",
    "- Generate the dither noise $d_\\text{TRI}[k]$ according to the PDF $p_\\text{TRI}(d)$. Check the resulting amplitude and distribution carefully. The length of $d_\\text{TRI}[k]$ and $x[k]$ must be equal.\n",
    "\n",
    "- Add each dither noise $d_\\text{RECT}[k]$ and $d_\\text{TRI}[k]$ individually to $x[k]$. Together with the case of no dithering we now have three signals to be quantized.\n",
    "\n",
    "- Quantize these signals individually using `my_quant(x,Q)` with $Q=2^B=2^3=8$ quantization steps.\n",
    "\n",
    "- Plot the midtread characteristic curve.\n",
    "\n",
    "- Plot the histogram of the dither noises as estimate of its PDF.\n",
    "\n",
    "- Plot the sine signal, the dithered signal, the quantized signal and the quantization error signal in one diagram for all three cases.\n",
    "\n",
    "- Calculate and plot the CCF of the signals $x_q[k]$ and $e[k]$ for all three cases.\n",
    "\n",
    "- Interpret the obtained graphics.\n",
    "\n",
    "- For each case, render WAV files from $x[k]$, $x[k]+d[k]$, $x_q[k]$ und $e[k]$ and listen to them. **Be careful! Do not harm your ears!** Pay special attention to the sound of the quantization error, how it is correlated with the quantized signal and how loud it appears.\n",
    "\n",
    "- We are now ready to quantize and listen to signals whose amplitude is even below the quantization step size $\\Delta Q$. For that, use the sine signal this time with amplitude $\\frac{\\Delta Q}{8}$ and dithering with RECT and TRI dither noise. Compare with the results from above case."
   ]
  },
  {
   "cell_type": "markdown",
   "metadata": {},
   "source": [
    "## Solution\n",
    "\n",
    "The task asks for repeated steps.\n",
    "This is perfectly handled by a little function that solves the repeating subtasks."
   ]
  },
  {
   "cell_type": "code",
   "execution_count": null,
   "metadata": {},
   "outputs": [],
   "source": [
    "def check_dithering(x, dither, Q, case):\n",
    "\n",
    "    deltaQ = 1/(Q//2)  # general rule\n",
    "\n",
    "    # dither noise\n",
    "    pdf, edges = np.histogram(dither, bins='auto', density=True)\n",
    "    xd = x + dither\n",
    "\n",
    "    # quantization\n",
    "    xq = my_quant(xd, Q)\n",
    "    e = xq-x\n",
    "\n",
    "    # write wavs\n",
    "    sf.write(file='x_'+case+'.wav', data=x,\n",
    "             samplerate=48000, subtype='PCM_24')\n",
    "    sf.write(file='xd_'+case+'.wav', data=xd,\n",
    "             samplerate=48000, subtype='PCM_24')\n",
    "    sf.write(file='xq_'+case+'.wav', data=xq,\n",
    "             samplerate=48000, subtype='PCM_24')\n",
    "    sf.write(file='e_'+case+'.wav', data=e,\n",
    "             samplerate=48000, subtype='PCM_24')\n",
    "\n",
    "    # CCF\n",
    "    kappa, ccf = my_xcorr2(xq, e, scaleopt='biased')\n",
    "\n",
    "    # plot dither noise PDF estimate as histogram\n",
    "    plt.figure(figsize=(12, 3))\n",
    "    plt.subplot(1, 2, 1)\n",
    "    plt.plot(edges[:-1], pdf, 'o-', ms=5, label='histogram')\n",
    "    plt.xticks(np.arange(-deltaQ*3/2, deltaQ*3/2+deltaQ/2, deltaQ/2))\n",
    "    plt.xlim(-deltaQ*3/2, +deltaQ*3/2)\n",
    "    plt.ylim(-0.1, (1/deltaQ)*1.1)\n",
    "    plt.grid(True)\n",
    "    plt.xlabel(r'$\\theta$')\n",
    "    plt.ylabel(r'$\\hat{p}(\\theta)$')\n",
    "    plt.title('PDF estimate of dither noise')\n",
    "\n",
    "    # plot midtread characterstic curve\n",
    "    plt.subplot(1, 2, 2)\n",
    "    check_my_quant(Q)\n",
    "\n",
    "    # plot signals\n",
    "    plt.figure(figsize=(12, 3))\n",
    "    plt.subplot(1, 2, 1)\n",
    "    plt.plot(k, x, color='C2', label=r'$x[k]$')\n",
    "    plt.plot(k, xd,  color='C1', label=r'$x[k] + dither[k]$')\n",
    "    plt.plot(k, xq,  color='C3', label=r'$x_q[k]$')\n",
    "    plt.plot(k, e,  color='C0', label=r'$e[k] = x_q[k] - x[k]$')\n",
    "    plt.plot(k, k*0+deltaQ, ':k', label=r'$\\Delta Q$')\n",
    "    plt.xlabel('k')\n",
    "    plt.title('signals')\n",
    "    plt.xticks(np.arange(0, 175, 25))\n",
    "    plt.yticks(np.arange(-2*deltaQ, 2*deltaQ+deltaQ/2, deltaQ/2))\n",
    "    plt.xlim(0, 150)\n",
    "    plt.ylim(-2*deltaQ, 2*deltaQ)\n",
    "    plt.legend(loc='lower left')\n",
    "    plt.grid(True)\n",
    "\n",
    "    # plot CCF\n",
    "    plt.subplot(1, 2, 2)\n",
    "    plt.plot(kappa, ccf)\n",
    "    plt.xlabel(r'$\\kappa$')\n",
    "    plt.ylabel(r'$\\varphi_{xq,e}[\\kappa]$')\n",
    "    plt.title('CCF betwen xq and e=xq-x')\n",
    "    plt.xticks(np.arange(-100, 125, 25))\n",
    "    plt.xlim(-100, 100)\n",
    "    plt.grid(True)"
   ]
  },
  {
   "cell_type": "code",
   "execution_count": null,
   "metadata": {
    "run_control": {
     "marked": false
    }
   },
   "outputs": [],
   "source": [
    "Q = 2**3\n",
    "deltaQ = 1/(Q//2)\n",
    "print('Q = %d, deltaQ=%e' % (Q, deltaQ))\n",
    "\n",
    "N = 100000\n",
    "fsin = 960\n",
    "fs = 48000\n",
    "k = np.arange(0, N)\n",
    "\n",
    "x = deltaQ * np.sin(2*np.pi*fsin/fs*k)\n",
    "#x = 1/8 * deltaQ * np.sin(2*np.pi*fsin/fs*k)"
   ]
  },
  {
   "cell_type": "markdown",
   "metadata": {},
   "source": [
    "### No Dither Noise"
   ]
  },
  {
   "cell_type": "code",
   "execution_count": null,
   "metadata": {
    "run_control": {
     "marked": false
    }
   },
   "outputs": [],
   "source": [
    "# no dither\n",
    "check_dithering(x=x, dither=x*0, Q=Q, case='nodither')"
   ]
  },
  {
   "cell_type": "code",
   "execution_count": null,
   "metadata": {},
   "outputs": [],
   "source": [
    "ipd.Audio('x_nodither.wav')"
   ]
  },
  {
   "cell_type": "code",
   "execution_count": null,
   "metadata": {},
   "outputs": [],
   "source": [
    "ipd.Audio('xd_nodither.wav')"
   ]
  },
  {
   "cell_type": "code",
   "execution_count": null,
   "metadata": {},
   "outputs": [],
   "source": [
    "ipd.Audio('xq_nodither.wav')"
   ]
  },
  {
   "cell_type": "code",
   "execution_count": null,
   "metadata": {},
   "outputs": [],
   "source": [
    "ipd.Audio('e_nodither.wav')"
   ]
  },
  {
   "cell_type": "markdown",
   "metadata": {},
   "source": [
    "### Uniform PDF Dither Noise"
   ]
  },
  {
   "cell_type": "code",
   "execution_count": null,
   "metadata": {
    "run_control": {
     "marked": false
    }
   },
   "outputs": [],
   "source": [
    "# uniform dither with max amplitude of deltaQ/2 \n",
    "np.random.seed(1)\n",
    "dither_uni = (np.random.rand(N) - 0.5) * 2 * deltaQ/2\n",
    "\n",
    "check_dithering(x=x, dither=dither_uni, Q=Q, case='unidither')"
   ]
  },
  {
   "cell_type": "code",
   "execution_count": null,
   "metadata": {},
   "outputs": [],
   "source": [
    "ipd.Audio('x_unidither.wav')"
   ]
  },
  {
   "cell_type": "code",
   "execution_count": null,
   "metadata": {},
   "outputs": [],
   "source": [
    "ipd.Audio('xd_unidither.wav')"
   ]
  },
  {
   "cell_type": "code",
   "execution_count": null,
   "metadata": {},
   "outputs": [],
   "source": [
    "ipd.Audio('xq_unidither.wav')"
   ]
  },
  {
   "cell_type": "code",
   "execution_count": null,
   "metadata": {},
   "outputs": [],
   "source": [
    "ipd.Audio('e_unidither.wav')"
   ]
  },
  {
   "cell_type": "markdown",
   "metadata": {},
   "source": [
    "### Triangular PDF Dither Noise"
   ]
  },
  {
   "cell_type": "code",
   "execution_count": null,
   "metadata": {},
   "outputs": [],
   "source": [
    "np.random.seed(1)\n",
    "# uniform PDF for amplitudes -1...+1:\n",
    "dither_uni1 = (np.random.rand(N) - 0.5) * 2\n",
    "dither_uni2 = (np.random.rand(N) - 0.5) * 2\n",
    "# triangular PDF with max amplitude of deltaQ\n",
    "dither_tri = (dither_uni1 + dither_uni2) * deltaQ/2\n",
    "\n",
    "check_dithering(x=x, dither=dither_tri, Q=Q, case='tridither')"
   ]
  },
  {
   "cell_type": "code",
   "execution_count": null,
   "metadata": {},
   "outputs": [],
   "source": [
    "ipd.Audio('x_tridither.wav')"
   ]
  },
  {
   "cell_type": "code",
   "execution_count": null,
   "metadata": {},
   "outputs": [],
   "source": [
    "ipd.Audio('xd_tridither.wav')"
   ]
  },
  {
   "cell_type": "code",
   "execution_count": null,
   "metadata": {},
   "outputs": [],
   "source": [
    "ipd.Audio('xq_tridither.wav')"
   ]
  },
  {
   "cell_type": "code",
   "execution_count": null,
   "metadata": {},
   "outputs": [],
   "source": [
    "ipd.Audio('e_tridither.wav')"
   ]
  },
  {
   "cell_type": "markdown",
   "metadata": {},
   "source": [
    "# **Copyright**\n",
    "\n",
    "The notebooks are provided as [Open Educational Resources](https://en.wikipedia.org/wiki/Open_educational_resources). Feel free to use the notebooks for your own purposes. The text is licensed under [Creative Commons Attribution 4.0](https://creativecommons.org/licenses/by/4.0/), the code of the IPython examples under the [MIT license](https://opensource.org/licenses/MIT). Please attribute the work as follows: *Frank Schultz, Digital Signal Processing - A Tutorial Featuring Computational Examples* with the URL https://github.com/spatialaudio/digital-signal-processing-exercises"
   ]
  }
 ],
 "metadata": {
  "kernelspec": {
   "display_name": "Python 3",
   "language": "python",
   "name": "python3"
  },
  "language_info": {
   "codemirror_mode": {
    "name": "ipython",
    "version": 3
   },
   "file_extension": ".py",
   "mimetype": "text/x-python",
   "name": "python",
   "nbconvert_exporter": "python",
   "pygments_lexer": "ipython3",
   "version": "3.7.5"
  }
 },
 "nbformat": 4,
 "nbformat_minor": 2
}
